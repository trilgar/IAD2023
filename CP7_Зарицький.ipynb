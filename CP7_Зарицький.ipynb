{
  "nbformat": 4,
  "nbformat_minor": 0,
  "metadata": {
    "colab": {
      "provenance": [],
      "include_colab_link": true
    },
    "kernelspec": {
      "name": "python3",
      "display_name": "Python 3"
    },
    "language_info": {
      "name": "python"
    }
  },
  "cells": [
    {
      "cell_type": "markdown",
      "metadata": {
        "id": "view-in-github",
        "colab_type": "text"
      },
      "source": [
        "<a href=\"https://colab.research.google.com/github/trilgar/IAD2023/blob/main/CP7_%D0%97%D0%B0%D1%80%D0%B8%D1%86%D1%8C%D0%BA%D0%B8%D0%B9.ipynb\" target=\"_parent\"><img src=\"https://colab.research.google.com/assets/colab-badge.svg\" alt=\"Open In Colab\"/></a>"
      ]
    },
    {
      "cell_type": "markdown",
      "metadata": {
        "id": "wNhBviOWN-YW"
      },
      "source": [
        "<center><font size=\"6\"><b>Комп'ютерний практикум 7.\n",
        "\n",
        "<center><b> Методи класифікації </font>\n",
        "\n",
        "\n",
        "<center><b><i><font size=\"4\"> KNN (K Nearest Neighbors Algorithm)\n",
        "\n",
        "DT (Decision Tree Algorithm)</b></center>\n"
      ]
    },
    {
      "cell_type": "markdown",
      "metadata": {
        "id": "uEoeTCVzgj0O"
      },
      "source": [
        "##<center>__Самостійні завдання__</center>\n",
        "\n",
        "> Скопіювати блок самостійних завдань в окремий файл ***LastName_CP7.ipynb***\n",
        "\n",
        "> Інсталюйте необхідні пакети бібліотек Python"
      ]
    },
    {
      "cell_type": "markdown",
      "metadata": {
        "id": "0BDe0NyTgmSY"
      },
      "source": [
        "### Завдання №1\n",
        "\n",
        "* Завантажте дані з лінку\n",
        "\n",
        "`url = \"https://archive.ics.uci.edu/ml/machine-learning-databases/iris/iris.data\"`\n",
        "\n",
        "<center><img src=\"http://sebastianraschka.com/images/blog/2015/principal_component_analysis_files/iris.png\" width=\"600\" alt=\"content-vs-colab.png\"></center>\n",
        "\n",
        "* задайте наступні імена колонок датафрейму:\n",
        "\n",
        "`names=['sepal length','sepal width','petal length','petal width','class label']`\n",
        "* виведіть описову статистику датасету\n",
        "* сформуйте масив характеристик $X$ та цільової змінної/класу $Y$ \n",
        "* виведіть кількість елементів у кожному класі\n",
        "* поділіть вибірку на навчальну та тестову у співвідношенні 30/70\n",
        " \n"
      ]
    },
    {
      "cell_type": "code",
      "metadata": {
        "id": "s0XIjMe_gpOr",
        "colab": {
          "base_uri": "https://localhost:8080/"
        },
        "outputId": "e9f7a8c2-b398-435c-c5e7-2b543c76225b"
      },
      "source": [
        "import pandas as pd\n",
        "\n",
        "url = \"https://archive.ics.uci.edu/ml/machine-learning-databases/iris/iris.data\"\n",
        "data = pd.read_csv(url, header=None, names=['sepal length', 'sepal width', 'petal length', 'petal width', 'class label'])\n",
        "\n",
        "# виведення описової статистики\n",
        "print(data.describe())"
      ],
      "execution_count": 45,
      "outputs": [
        {
          "output_type": "stream",
          "name": "stdout",
          "text": [
            "       sepal length  sepal width  petal length  petal width\n",
            "count    150.000000   150.000000    150.000000   150.000000\n",
            "mean       5.843333     3.054000      3.758667     1.198667\n",
            "std        0.828066     0.433594      1.764420     0.763161\n",
            "min        4.300000     2.000000      1.000000     0.100000\n",
            "25%        5.100000     2.800000      1.600000     0.300000\n",
            "50%        5.800000     3.000000      4.350000     1.300000\n",
            "75%        6.400000     3.300000      5.100000     1.800000\n",
            "max        7.900000     4.400000      6.900000     2.500000\n"
          ]
        }
      ]
    },
    {
      "cell_type": "code",
      "source": [
        "import numpy as np\n",
        "\n",
        "# формування масивів X та Y\n",
        "X = data.iloc[:, :-1].values\n",
        "Y = data.iloc[:, -1].values\n",
        "\n",
        "# виведення кількості елементів у кожному класі\n",
        "unique, counts = np.unique(Y, return_counts=True)\n",
        "print(dict(zip(unique, counts)))"
      ],
      "metadata": {
        "colab": {
          "base_uri": "https://localhost:8080/"
        },
        "id": "c_kh4tMc-VuQ",
        "outputId": "9287f32f-d8c8-4dd4-9a32-75231393326a"
      },
      "execution_count": 46,
      "outputs": [
        {
          "output_type": "stream",
          "name": "stdout",
          "text": [
            "{'Iris-setosa': 50, 'Iris-versicolor': 50, 'Iris-virginica': 50}\n"
          ]
        }
      ]
    },
    {
      "cell_type": "code",
      "source": [
        "from sklearn.model_selection import train_test_split\n",
        "\n",
        "# поділ даних на навчальну та тестову вибірки\n",
        "X_train, X_test, Y_train, Y_test = train_test_split(X, Y, test_size=0.7, random_state=42)\n",
        "\n",
        "# виведення розміру навчальної та тестової вибірок\n",
        "print(\"Розмір навчальної вибірки:\", X_train.shape[0])"
      ],
      "metadata": {
        "colab": {
          "base_uri": "https://localhost:8080/"
        },
        "id": "gpzr9DGr-xGV",
        "outputId": "98482e6f-8143-4064-8b94-a2e6e4343d50"
      },
      "execution_count": 53,
      "outputs": [
        {
          "output_type": "stream",
          "name": "stdout",
          "text": [
            "Розмір навчальної вибірки: 45\n"
          ]
        }
      ]
    },
    {
      "cell_type": "markdown",
      "metadata": {
        "id": "r5xD3xxVpvNI"
      },
      "source": [
        "### Завдання №2\n",
        "\n",
        "* Проведіть стандартизацію даних\n",
        "* застосуйте алгоритм kNN для $k=3$, $k=5$, використовуючи евклідову метрику та манхеттенську метрику\n",
        "* порівняйте результати точності для цих моделей\n",
        "* визначіть оптимальне $k$ за допомогою `GridSearchCV`\n",
        "* зробіть висновки\n"
      ]
    },
    {
      "cell_type": "code",
      "metadata": {
        "id": "3_V_77Igpzgi"
      },
      "source": [
        "from sklearn.preprocessing import StandardScaler\n",
        "\n",
        "# стандартизація даних\n",
        "scaler = StandardScaler()\n",
        "X_train_std = scaler.fit_transform(X_train)\n",
        "X_test_std = scaler.transform(X_test)"
      ],
      "execution_count": 55,
      "outputs": []
    },
    {
      "cell_type": "code",
      "source": [
        "from sklearn.neighbors import KNeighborsClassifier\n",
        "from sklearn.metrics import accuracy_score\n",
        "\n",
        "k_values = [3, 5]\n",
        "distances = ['euclidean', 'manhattan']\n",
        "\n",
        "for k in k_values:\n",
        "    for distance in distances:\n",
        "        model = KNeighborsClassifier(n_neighbors=k, metric=distance)\n",
        "        model.fit(X_train_std, Y_train)\n",
        "        y_pred = model.predict(X_test_std)\n",
        "        accuracy = accuracy_score(Y_test, y_pred)\n",
        "        print(f\"k={k}, distance={distance}: accuracy={accuracy:.3f}\")"
      ],
      "metadata": {
        "colab": {
          "base_uri": "https://localhost:8080/"
        },
        "id": "UR7UhfeJ_X3l",
        "outputId": "635772ca-80b0-4465-8ae6-d342348088fc"
      },
      "execution_count": 59,
      "outputs": [
        {
          "output_type": "stream",
          "name": "stdout",
          "text": [
            "k=3, distance=euclidean: accuracy=0.943\n",
            "k=3, distance=manhattan: accuracy=0.943\n",
            "k=5, distance=euclidean: accuracy=0.933\n",
            "k=5, distance=manhattan: accuracy=0.933\n"
          ]
        }
      ]
    },
    {
      "cell_type": "code",
      "source": [
        "from sklearn.model_selection import GridSearchCV\n",
        "\n",
        "# задаємо діапазон значень параметра k, які будуть перевірятися\n",
        "k_range = list(range(1, 30))\n",
        "\n",
        "# задаємо параметри для GridSearchCV\n",
        "param_grid = dict(n_neighbors=k_range)\n",
        "\n",
        "# ініціалізуємо модель kNN\n",
        "knn = KNeighborsClassifier()\n",
        "\n",
        "# визначаємо оптимальне значення параметра k за допомогою GridSearchCV\n",
        "grid = GridSearchCV(knn, param_grid, cv=10, scoring='accuracy')\n",
        "grid.fit(X_train_std, Y_train)\n",
        "\n",
        "# виводимо оптимальне значення параметра k та досягнуту точність\n",
        "print(\"Найкращий параметр k: \", grid.best_params_)\n",
        "print(\"Найкраща досягнута точність: \", grid.best_score_)"
      ],
      "metadata": {
        "colab": {
          "base_uri": "https://localhost:8080/"
        },
        "id": "xNRTqlpqAznE",
        "outputId": "ed4f9ea0-4be2-4e7e-8fe7-9ae8b80d264d"
      },
      "execution_count": 62,
      "outputs": [
        {
          "output_type": "stream",
          "name": "stdout",
          "text": [
            "Найкращий параметр k:  {'n_neighbors': 3}\n",
            "Найкраща досягнута точність:  0.9550000000000001\n"
          ]
        }
      ]
    },
    {
      "cell_type": "markdown",
      "source": [
        "Найкращою є модель з k=3. Це показав як наш підбір вручну, так і підбір за допомогою GridSearchCV."
      ],
      "metadata": {
        "id": "IP-1MGPCBSIr"
      }
    },
    {
      "cell_type": "markdown",
      "metadata": {
        "id": "HIoUG_3wp8pG"
      },
      "source": [
        "### Завдання №3\n",
        "\n",
        "* Проведіть стандартизацію даних\n",
        "* застосуйте алгоритм дерева рішень з критерієм `entropy` \n",
        "* візуалізуйте дерево\n",
        "* оцініть точність класифікації\n",
        "* застосуйте алгоритм дерева рішень з критерієм `gini` \n",
        "* візуалізуйте дерево\n",
        "* оцініть точність класифікації\n",
        "* визначіть оптимальну кількість характеристик в моделі та глибину дерева за допомогою `GridSearchCV`\n",
        "* зробіть висновки"
      ]
    },
    {
      "cell_type": "code",
      "metadata": {
        "id": "fB9yio-tp1eu",
        "colab": {
          "base_uri": "https://localhost:8080/"
        },
        "outputId": "2a46f726-a4d5-4de5-85d0-4cd2bf9e149f"
      },
      "source": [
        "from sklearn.tree import DecisionTreeClassifier\n",
        "\n",
        "# створюємо об'єкт класифікатора DecisionTreeClassifier з критерієм entropy\n",
        "dt = DecisionTreeClassifier(criterion='entropy')\n",
        "\n",
        "# навчаємо модель на тренувальному датасеті\n",
        "dt.fit(X_train_std, Y_train)\n",
        "\n",
        "# робимо передбачення на тестовому датасеті\n",
        "y_pred = dt.predict(X_test_std)\n",
        "\n",
        "# виводимо точність моделі\n",
        "accuracy = accuracy_score(Y_test, y_pred)\n",
        "print(\"Точність моделі: \", accuracy)"
      ],
      "execution_count": 69,
      "outputs": [
        {
          "output_type": "stream",
          "name": "stdout",
          "text": [
            "Точність моделі:  0.9238095238095239\n"
          ]
        }
      ]
    },
    {
      "cell_type": "code",
      "source": [
        "from sklearn.tree import export_graphviz\n",
        "import graphviz\n",
        "\n",
        "# визначаємо параметри для візуалізації дерева\n",
        "dot_data = export_graphviz(dt, out_file=None, \n",
        "                feature_names=['sepal length', 'sepal width', 'petal length', 'petal width'],  \n",
        "                class_names=['Iris-setosa', 'Iris-versicolor', 'Iris-virginica'],  \n",
        "                filled=True, rounded=True,  \n",
        "                special_characters=True)\n",
        "\n",
        "# створюємо та візуалізуємо граф\n",
        "graph = graphviz.Source(dot_data)\n",
        "graph"
      ],
      "metadata": {
        "colab": {
          "base_uri": "https://localhost:8080/",
          "height": 441
        },
        "id": "jqddRnPgC4F8",
        "outputId": "0387a72c-6625-44dd-da8e-3a80b8c15d01"
      },
      "execution_count": 66,
      "outputs": [
        {
          "output_type": "execute_result",
          "data": {
            "image/svg+xml": "<?xml version=\"1.0\" encoding=\"UTF-8\" standalone=\"no\"?>\n<!DOCTYPE svg PUBLIC \"-//W3C//DTD SVG 1.1//EN\"\n \"http://www.w3.org/Graphics/SVG/1.1/DTD/svg11.dtd\">\n<!-- Generated by graphviz version 2.43.0 (0)\n -->\n<!-- Title: Tree Pages: 1 -->\n<svg width=\"371pt\" height=\"314pt\"\n viewBox=\"0.00 0.00 371.00 314.00\" xmlns=\"http://www.w3.org/2000/svg\" xmlns:xlink=\"http://www.w3.org/1999/xlink\">\n<g id=\"graph0\" class=\"graph\" transform=\"scale(1 1) rotate(0) translate(4 310)\">\n<title>Tree</title>\n<polygon fill=\"white\" stroke=\"transparent\" points=\"-4,4 -4,-310 367,-310 367,4 -4,4\"/>\n<!-- 0 -->\n<g id=\"node1\" class=\"node\">\n<title>0</title>\n<path fill=\"#faf8fe\" stroke=\"black\" d=\"M272,-306C272,-306 161,-306 161,-306 155,-306 149,-300 149,-294 149,-294 149,-235 149,-235 149,-229 155,-223 161,-223 161,-223 272,-223 272,-223 278,-223 284,-229 284,-235 284,-235 284,-294 284,-294 284,-300 278,-306 272,-306\"/>\n<text text-anchor=\"start\" x=\"163.5\" y=\"-290.8\" font-family=\"Helvetica,sans-Serif\" font-size=\"14.00\">petal width ≤ 0.28</text>\n<text text-anchor=\"start\" x=\"169\" y=\"-275.8\" font-family=\"Helvetica,sans-Serif\" font-size=\"14.00\">entropy = 1.542</text>\n<text text-anchor=\"start\" x=\"175.5\" y=\"-260.8\" font-family=\"Helvetica,sans-Serif\" font-size=\"14.00\">samples = 45</text>\n<text text-anchor=\"start\" x=\"158.5\" y=\"-245.8\" font-family=\"Helvetica,sans-Serif\" font-size=\"14.00\">value = [10, 17, 18]</text>\n<text text-anchor=\"start\" x=\"157\" y=\"-230.8\" font-family=\"Helvetica,sans-Serif\" font-size=\"14.00\">class = Iris&#45;virginica</text>\n</g>\n<!-- 1 -->\n<g id=\"node2\" class=\"node\">\n<title>1</title>\n<path fill=\"#adf4cb\" stroke=\"black\" d=\"M198,-187C198,-187 79,-187 79,-187 73,-187 67,-181 67,-175 67,-175 67,-116 67,-116 67,-110 73,-104 79,-104 79,-104 198,-104 198,-104 204,-104 210,-110 210,-116 210,-116 210,-175 210,-175 210,-181 204,-187 198,-187\"/>\n<text text-anchor=\"start\" x=\"76.5\" y=\"-171.8\" font-family=\"Helvetica,sans-Serif\" font-size=\"14.00\">petal length ≤ &#45;1.025</text>\n<text text-anchor=\"start\" x=\"91\" y=\"-156.8\" font-family=\"Helvetica,sans-Serif\" font-size=\"14.00\">entropy = 0.951</text>\n<text text-anchor=\"start\" x=\"97.5\" y=\"-141.8\" font-family=\"Helvetica,sans-Serif\" font-size=\"14.00\">samples = 27</text>\n<text text-anchor=\"start\" x=\"84\" y=\"-126.8\" font-family=\"Helvetica,sans-Serif\" font-size=\"14.00\">value = [10, 17, 0]</text>\n<text text-anchor=\"start\" x=\"75\" y=\"-111.8\" font-family=\"Helvetica,sans-Serif\" font-size=\"14.00\">class = Iris&#45;versicolor</text>\n</g>\n<!-- 0&#45;&gt;1 -->\n<g id=\"edge1\" class=\"edge\">\n<title>0&#45;&gt;1</title>\n<path fill=\"none\" stroke=\"black\" d=\"M189.44,-222.91C183.57,-214.1 177.3,-204.7 171.24,-195.61\"/>\n<polygon fill=\"black\" stroke=\"black\" points=\"173.97,-193.4 165.51,-187.02 168.15,-197.28 173.97,-193.4\"/>\n<text text-anchor=\"middle\" x=\"160.61\" y=\"-207.84\" font-family=\"Helvetica,sans-Serif\" font-size=\"14.00\">True</text>\n</g>\n<!-- 4 -->\n<g id=\"node5\" class=\"node\">\n<title>4</title>\n<path fill=\"#8139e5\" stroke=\"black\" d=\"M351,-179.5C351,-179.5 240,-179.5 240,-179.5 234,-179.5 228,-173.5 228,-167.5 228,-167.5 228,-123.5 228,-123.5 228,-117.5 234,-111.5 240,-111.5 240,-111.5 351,-111.5 351,-111.5 357,-111.5 363,-117.5 363,-123.5 363,-123.5 363,-167.5 363,-167.5 363,-173.5 357,-179.5 351,-179.5\"/>\n<text text-anchor=\"start\" x=\"255.5\" y=\"-164.3\" font-family=\"Helvetica,sans-Serif\" font-size=\"14.00\">entropy = 0.0</text>\n<text text-anchor=\"start\" x=\"254.5\" y=\"-149.3\" font-family=\"Helvetica,sans-Serif\" font-size=\"14.00\">samples = 18</text>\n<text text-anchor=\"start\" x=\"245\" y=\"-134.3\" font-family=\"Helvetica,sans-Serif\" font-size=\"14.00\">value = [0, 0, 18]</text>\n<text text-anchor=\"start\" x=\"236\" y=\"-119.3\" font-family=\"Helvetica,sans-Serif\" font-size=\"14.00\">class = Iris&#45;virginica</text>\n</g>\n<!-- 0&#45;&gt;4 -->\n<g id=\"edge4\" class=\"edge\">\n<title>0&#45;&gt;4</title>\n<path fill=\"none\" stroke=\"black\" d=\"M243.91,-222.91C251.51,-211.65 259.77,-199.42 267.41,-188.11\"/>\n<polygon fill=\"black\" stroke=\"black\" points=\"270.41,-189.91 273.11,-179.67 264.61,-186 270.41,-189.91\"/>\n<text text-anchor=\"middle\" x=\"277.86\" y=\"-200.51\" font-family=\"Helvetica,sans-Serif\" font-size=\"14.00\">False</text>\n</g>\n<!-- 2 -->\n<g id=\"node3\" class=\"node\">\n<title>2</title>\n<path fill=\"#e58139\" stroke=\"black\" d=\"M113,-68C113,-68 12,-68 12,-68 6,-68 0,-62 0,-56 0,-56 0,-12 0,-12 0,-6 6,0 12,0 12,0 113,0 113,0 119,0 125,-6 125,-12 125,-12 125,-56 125,-56 125,-62 119,-68 113,-68\"/>\n<text text-anchor=\"start\" x=\"22.5\" y=\"-52.8\" font-family=\"Helvetica,sans-Serif\" font-size=\"14.00\">entropy = 0.0</text>\n<text text-anchor=\"start\" x=\"21.5\" y=\"-37.8\" font-family=\"Helvetica,sans-Serif\" font-size=\"14.00\">samples = 10</text>\n<text text-anchor=\"start\" x=\"12\" y=\"-22.8\" font-family=\"Helvetica,sans-Serif\" font-size=\"14.00\">value = [10, 0, 0]</text>\n<text text-anchor=\"start\" x=\"8\" y=\"-7.8\" font-family=\"Helvetica,sans-Serif\" font-size=\"14.00\">class = Iris&#45;setosa</text>\n</g>\n<!-- 1&#45;&gt;2 -->\n<g id=\"edge2\" class=\"edge\">\n<title>1&#45;&gt;2</title>\n<path fill=\"none\" stroke=\"black\" d=\"M110.2,-103.73C104.06,-94.88 97.56,-85.51 91.39,-76.63\"/>\n<polygon fill=\"black\" stroke=\"black\" points=\"94.19,-74.52 85.61,-68.3 88.44,-78.51 94.19,-74.52\"/>\n</g>\n<!-- 3 -->\n<g id=\"node4\" class=\"node\">\n<title>3</title>\n<path fill=\"#39e581\" stroke=\"black\" d=\"M274,-68C274,-68 155,-68 155,-68 149,-68 143,-62 143,-56 143,-56 143,-12 143,-12 143,-6 149,0 155,0 155,0 274,0 274,0 280,0 286,-6 286,-12 286,-12 286,-56 286,-56 286,-62 280,-68 274,-68\"/>\n<text text-anchor=\"start\" x=\"174.5\" y=\"-52.8\" font-family=\"Helvetica,sans-Serif\" font-size=\"14.00\">entropy = 0.0</text>\n<text text-anchor=\"start\" x=\"173.5\" y=\"-37.8\" font-family=\"Helvetica,sans-Serif\" font-size=\"14.00\">samples = 17</text>\n<text text-anchor=\"start\" x=\"164\" y=\"-22.8\" font-family=\"Helvetica,sans-Serif\" font-size=\"14.00\">value = [0, 17, 0]</text>\n<text text-anchor=\"start\" x=\"151\" y=\"-7.8\" font-family=\"Helvetica,sans-Serif\" font-size=\"14.00\">class = Iris&#45;versicolor</text>\n</g>\n<!-- 1&#45;&gt;3 -->\n<g id=\"edge3\" class=\"edge\">\n<title>1&#45;&gt;3</title>\n<path fill=\"none\" stroke=\"black\" d=\"M166.8,-103.73C172.94,-94.88 179.44,-85.51 185.61,-76.63\"/>\n<polygon fill=\"black\" stroke=\"black\" points=\"188.56,-78.51 191.39,-68.3 182.81,-74.52 188.56,-78.51\"/>\n</g>\n</g>\n</svg>\n",
            "text/plain": [
              "<graphviz.sources.Source at 0x7fe3a934b550>"
            ]
          },
          "metadata": {},
          "execution_count": 66
        }
      ]
    },
    {
      "cell_type": "code",
      "source": [
        "# створюємо об'єкт класифікатора DecisionTreeClassifier з критерієм gini\n",
        "dt = DecisionTreeClassifier(criterion='gini')\n",
        "\n",
        "# навчаємо модель на тренувальному датасеті\n",
        "dt.fit(X_train_std, Y_train)\n",
        "\n",
        "# робимо передбачення на тестовому датасеті\n",
        "y_pred = dt.predict(X_test_std)\n",
        "\n",
        "# виводимо точність моделі\n",
        "accuracy = accuracy_score(Y_test, y_pred)\n",
        "print(\"Точність моделі: \", accuracy)"
      ],
      "metadata": {
        "colab": {
          "base_uri": "https://localhost:8080/"
        },
        "id": "0Mb862zYDgYz",
        "outputId": "37fc28a5-ea1f-44d2-a5aa-8a1045b9fc6c"
      },
      "execution_count": 67,
      "outputs": [
        {
          "output_type": "stream",
          "name": "stdout",
          "text": [
            "Точність моделі:  0.9238095238095239\n"
          ]
        }
      ]
    },
    {
      "cell_type": "code",
      "source": [
        "from sklearn.tree import export_graphviz\n",
        "import graphviz\n",
        "\n",
        "# визначаємо параметри для візуалізації дерева\n",
        "dot_data = export_graphviz(dt, out_file=None, \n",
        "                feature_names=['sepal length', 'sepal width', 'petal length', 'petal width'],  \n",
        "                class_names=['Iris-setosa', 'Iris-versicolor', 'Iris-virginica'],  \n",
        "                filled=True, rounded=True,  \n",
        "                special_characters=True)\n",
        "\n",
        "# створюємо та візуалізуємо граф\n",
        "graph = graphviz.Source(dot_data)\n",
        "graph"
      ],
      "metadata": {
        "colab": {
          "base_uri": "https://localhost:8080/",
          "height": 441
        },
        "id": "Qp7zmrrPDigc",
        "outputId": "3eb1a0dd-79bf-481f-ba9f-7ec15427fda7"
      },
      "execution_count": 68,
      "outputs": [
        {
          "output_type": "execute_result",
          "data": {
            "image/svg+xml": "<?xml version=\"1.0\" encoding=\"UTF-8\" standalone=\"no\"?>\n<!DOCTYPE svg PUBLIC \"-//W3C//DTD SVG 1.1//EN\"\n \"http://www.w3.org/Graphics/SVG/1.1/DTD/svg11.dtd\">\n<!-- Generated by graphviz version 2.43.0 (0)\n -->\n<!-- Title: Tree Pages: 1 -->\n<svg width=\"371pt\" height=\"314pt\"\n viewBox=\"0.00 0.00 371.00 314.00\" xmlns=\"http://www.w3.org/2000/svg\" xmlns:xlink=\"http://www.w3.org/1999/xlink\">\n<g id=\"graph0\" class=\"graph\" transform=\"scale(1 1) rotate(0) translate(4 310)\">\n<title>Tree</title>\n<polygon fill=\"white\" stroke=\"transparent\" points=\"-4,4 -4,-310 367,-310 367,4 -4,4\"/>\n<!-- 0 -->\n<g id=\"node1\" class=\"node\">\n<title>0</title>\n<path fill=\"#faf8fe\" stroke=\"black\" d=\"M272,-306C272,-306 161,-306 161,-306 155,-306 149,-300 149,-294 149,-294 149,-235 149,-235 149,-229 155,-223 161,-223 161,-223 272,-223 272,-223 278,-223 284,-229 284,-235 284,-235 284,-294 284,-294 284,-300 278,-306 272,-306\"/>\n<text text-anchor=\"start\" x=\"163.5\" y=\"-290.8\" font-family=\"Helvetica,sans-Serif\" font-size=\"14.00\">petal width ≤ 0.28</text>\n<text text-anchor=\"start\" x=\"181\" y=\"-275.8\" font-family=\"Helvetica,sans-Serif\" font-size=\"14.00\">gini = 0.648</text>\n<text text-anchor=\"start\" x=\"175.5\" y=\"-260.8\" font-family=\"Helvetica,sans-Serif\" font-size=\"14.00\">samples = 45</text>\n<text text-anchor=\"start\" x=\"158.5\" y=\"-245.8\" font-family=\"Helvetica,sans-Serif\" font-size=\"14.00\">value = [10, 17, 18]</text>\n<text text-anchor=\"start\" x=\"157\" y=\"-230.8\" font-family=\"Helvetica,sans-Serif\" font-size=\"14.00\">class = Iris&#45;virginica</text>\n</g>\n<!-- 1 -->\n<g id=\"node2\" class=\"node\">\n<title>1</title>\n<path fill=\"#adf4cb\" stroke=\"black\" d=\"M198,-187C198,-187 79,-187 79,-187 73,-187 67,-181 67,-175 67,-175 67,-116 67,-116 67,-110 73,-104 79,-104 79,-104 198,-104 198,-104 204,-104 210,-110 210,-116 210,-116 210,-175 210,-175 210,-181 204,-187 198,-187\"/>\n<text text-anchor=\"start\" x=\"83\" y=\"-171.8\" font-family=\"Helvetica,sans-Serif\" font-size=\"14.00\">petal width ≤ &#45;0.93</text>\n<text text-anchor=\"start\" x=\"103\" y=\"-156.8\" font-family=\"Helvetica,sans-Serif\" font-size=\"14.00\">gini = 0.466</text>\n<text text-anchor=\"start\" x=\"97.5\" y=\"-141.8\" font-family=\"Helvetica,sans-Serif\" font-size=\"14.00\">samples = 27</text>\n<text text-anchor=\"start\" x=\"84\" y=\"-126.8\" font-family=\"Helvetica,sans-Serif\" font-size=\"14.00\">value = [10, 17, 0]</text>\n<text text-anchor=\"start\" x=\"75\" y=\"-111.8\" font-family=\"Helvetica,sans-Serif\" font-size=\"14.00\">class = Iris&#45;versicolor</text>\n</g>\n<!-- 0&#45;&gt;1 -->\n<g id=\"edge1\" class=\"edge\">\n<title>0&#45;&gt;1</title>\n<path fill=\"none\" stroke=\"black\" d=\"M189.44,-222.91C183.57,-214.1 177.3,-204.7 171.24,-195.61\"/>\n<polygon fill=\"black\" stroke=\"black\" points=\"173.97,-193.4 165.51,-187.02 168.15,-197.28 173.97,-193.4\"/>\n<text text-anchor=\"middle\" x=\"160.61\" y=\"-207.84\" font-family=\"Helvetica,sans-Serif\" font-size=\"14.00\">True</text>\n</g>\n<!-- 4 -->\n<g id=\"node5\" class=\"node\">\n<title>4</title>\n<path fill=\"#8139e5\" stroke=\"black\" d=\"M351,-179.5C351,-179.5 240,-179.5 240,-179.5 234,-179.5 228,-173.5 228,-167.5 228,-167.5 228,-123.5 228,-123.5 228,-117.5 234,-111.5 240,-111.5 240,-111.5 351,-111.5 351,-111.5 357,-111.5 363,-117.5 363,-123.5 363,-123.5 363,-167.5 363,-167.5 363,-173.5 357,-179.5 351,-179.5\"/>\n<text text-anchor=\"start\" x=\"267.5\" y=\"-164.3\" font-family=\"Helvetica,sans-Serif\" font-size=\"14.00\">gini = 0.0</text>\n<text text-anchor=\"start\" x=\"254.5\" y=\"-149.3\" font-family=\"Helvetica,sans-Serif\" font-size=\"14.00\">samples = 18</text>\n<text text-anchor=\"start\" x=\"245\" y=\"-134.3\" font-family=\"Helvetica,sans-Serif\" font-size=\"14.00\">value = [0, 0, 18]</text>\n<text text-anchor=\"start\" x=\"236\" y=\"-119.3\" font-family=\"Helvetica,sans-Serif\" font-size=\"14.00\">class = Iris&#45;virginica</text>\n</g>\n<!-- 0&#45;&gt;4 -->\n<g id=\"edge4\" class=\"edge\">\n<title>0&#45;&gt;4</title>\n<path fill=\"none\" stroke=\"black\" d=\"M243.91,-222.91C251.51,-211.65 259.77,-199.42 267.41,-188.11\"/>\n<polygon fill=\"black\" stroke=\"black\" points=\"270.41,-189.91 273.11,-179.67 264.61,-186 270.41,-189.91\"/>\n<text text-anchor=\"middle\" x=\"277.86\" y=\"-200.51\" font-family=\"Helvetica,sans-Serif\" font-size=\"14.00\">False</text>\n</g>\n<!-- 2 -->\n<g id=\"node3\" class=\"node\">\n<title>2</title>\n<path fill=\"#e58139\" stroke=\"black\" d=\"M113,-68C113,-68 12,-68 12,-68 6,-68 0,-62 0,-56 0,-56 0,-12 0,-12 0,-6 6,0 12,0 12,0 113,0 113,0 119,0 125,-6 125,-12 125,-12 125,-56 125,-56 125,-62 119,-68 113,-68\"/>\n<text text-anchor=\"start\" x=\"34.5\" y=\"-52.8\" font-family=\"Helvetica,sans-Serif\" font-size=\"14.00\">gini = 0.0</text>\n<text text-anchor=\"start\" x=\"21.5\" y=\"-37.8\" font-family=\"Helvetica,sans-Serif\" font-size=\"14.00\">samples = 10</text>\n<text text-anchor=\"start\" x=\"12\" y=\"-22.8\" font-family=\"Helvetica,sans-Serif\" font-size=\"14.00\">value = [10, 0, 0]</text>\n<text text-anchor=\"start\" x=\"8\" y=\"-7.8\" font-family=\"Helvetica,sans-Serif\" font-size=\"14.00\">class = Iris&#45;setosa</text>\n</g>\n<!-- 1&#45;&gt;2 -->\n<g id=\"edge2\" class=\"edge\">\n<title>1&#45;&gt;2</title>\n<path fill=\"none\" stroke=\"black\" d=\"M110.2,-103.73C104.06,-94.88 97.56,-85.51 91.39,-76.63\"/>\n<polygon fill=\"black\" stroke=\"black\" points=\"94.19,-74.52 85.61,-68.3 88.44,-78.51 94.19,-74.52\"/>\n</g>\n<!-- 3 -->\n<g id=\"node4\" class=\"node\">\n<title>3</title>\n<path fill=\"#39e581\" stroke=\"black\" d=\"M274,-68C274,-68 155,-68 155,-68 149,-68 143,-62 143,-56 143,-56 143,-12 143,-12 143,-6 149,0 155,0 155,0 274,0 274,0 280,0 286,-6 286,-12 286,-12 286,-56 286,-56 286,-62 280,-68 274,-68\"/>\n<text text-anchor=\"start\" x=\"186.5\" y=\"-52.8\" font-family=\"Helvetica,sans-Serif\" font-size=\"14.00\">gini = 0.0</text>\n<text text-anchor=\"start\" x=\"173.5\" y=\"-37.8\" font-family=\"Helvetica,sans-Serif\" font-size=\"14.00\">samples = 17</text>\n<text text-anchor=\"start\" x=\"164\" y=\"-22.8\" font-family=\"Helvetica,sans-Serif\" font-size=\"14.00\">value = [0, 17, 0]</text>\n<text text-anchor=\"start\" x=\"151\" y=\"-7.8\" font-family=\"Helvetica,sans-Serif\" font-size=\"14.00\">class = Iris&#45;versicolor</text>\n</g>\n<!-- 1&#45;&gt;3 -->\n<g id=\"edge3\" class=\"edge\">\n<title>1&#45;&gt;3</title>\n<path fill=\"none\" stroke=\"black\" d=\"M166.8,-103.73C172.94,-94.88 179.44,-85.51 185.61,-76.63\"/>\n<polygon fill=\"black\" stroke=\"black\" points=\"188.56,-78.51 191.39,-68.3 182.81,-74.52 188.56,-78.51\"/>\n</g>\n</g>\n</svg>\n",
            "text/plain": [
              "<graphviz.sources.Source at 0x7fe3a1ca9ac0>"
            ]
          },
          "metadata": {},
          "execution_count": 68
        }
      ]
    },
    {
      "cell_type": "code",
      "source": [
        "from sklearn.model_selection import GridSearchCV\n",
        "from sklearn.tree import DecisionTreeClassifier\n",
        "\n",
        "# Задаємо параметри, які будемо шукати\n",
        "param_grid = {\n",
        "    'max_depth': [2, 3, 4, 5, 6],\n",
        "    'max_features': ['sqrt', 'log2', None]\n",
        "}\n",
        "\n",
        "# Створюємо модель дерева рішень\n",
        "tree = DecisionTreeClassifier(criterion='entropy', random_state=42)\n",
        "\n",
        "# Застосовуємо GridSearchCV\n",
        "grid_search = GridSearchCV(tree, param_grid=param_grid, cv=5)\n",
        "grid_search.fit(X_train_std, Y_train)\n",
        "\n",
        "# Виводимо оптимальні параметри\n",
        "print(\"Оптимальна глибина дерева:\", grid_search.best_params_['max_depth'])\n",
        "print(\"Оптимальна кількість характеристик:\", grid_search.best_params_['max_features'])\n",
        "\n",
        "y_pred = grid_search.predict(X_test_std)\n",
        "print(\"Точність моделі: \", accuracy_score(Y_test, y_pred))"
      ],
      "metadata": {
        "colab": {
          "base_uri": "https://localhost:8080/"
        },
        "id": "ooZ8KEzoD4uh",
        "outputId": "6e87684b-d1fe-496f-e607-87616ae9c982"
      },
      "execution_count": 71,
      "outputs": [
        {
          "output_type": "stream",
          "name": "stdout",
          "text": [
            "Оптимальна глибина дерева: 2\n",
            "Оптимальна кількість характеристик: None\n",
            "Точність моделі:  0.9238095238095239\n"
          ]
        }
      ]
    },
    {
      "cell_type": "markdown",
      "metadata": {
        "id": "dFWpAKfmu9nv"
      },
      "source": [
        "### Завдання №4\n",
        "\n",
        "Порівняйте результати класифікації методами kNN та дерева рішень для заданого набору даних"
      ]
    },
    {
      "cell_type": "markdown",
      "source": [
        "Як бачимо, дерево рішень трохи гірше справилося з завданням. Але в середньому одидва методи показували однакову точність. "
      ],
      "metadata": {
        "id": "p_3d1y5IE1Jw"
      }
    }
  ]
}