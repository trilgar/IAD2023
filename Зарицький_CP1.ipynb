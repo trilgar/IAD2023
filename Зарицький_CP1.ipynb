{
  "nbformat": 4,
  "nbformat_minor": 0,
  "metadata": {
    "colab": {
      "provenance": [],
      "include_colab_link": true
    },
    "kernelspec": {
      "name": "python3",
      "display_name": "Python 3"
    }
  },
  "cells": [
    {
      "cell_type": "markdown",
      "metadata": {
        "id": "view-in-github",
        "colab_type": "text"
      },
      "source": [
        "<a href=\"https://colab.research.google.com/github/trilgar/IAD2023/blob/main/%D0%97%D0%B0%D1%80%D0%B8%D1%86%D1%8C%D0%BA%D0%B8%D0%B9_CP1.ipynb\" target=\"_parent\"><img src=\"https://colab.research.google.com/assets/colab-badge.svg\" alt=\"Open In Colab\"/></a>"
      ]
    },
    {
      "cell_type": "markdown",
      "metadata": {
        "id": "4jLE0nxT_P19"
      },
      "source": [
        "\n",
        "<center><font size=\"6\"><b>Комп'ютерний практикум 1.\n",
        "\n",
        " Основи Python</b></font></center>\n",
        "\n",
        "\n",
        "***"
      ]
    },
    {
      "cell_type": "markdown",
      "metadata": {
        "id": "z0vqDFdl7mZx"
      },
      "source": [
        "##<center>__Самостійні завдання__</center>\n",
        "\n",
        "> Скопіювати блок самостійних завдань в окремий файл ***LastName_CP1.ipynb***"
      ]
    },
    {
      "cell_type": "markdown",
      "metadata": {
        "id": "OflG6K-YVWbw"
      },
      "source": [
        "### Завдання №1\n",
        "\n",
        "1. Створити цілочисельну змінну `x`. \n",
        "2. Змінити тип даних змінної `x` на дійсний.\n",
        "3. Створити нову числову змінну `y`. \n",
        "4. Піднести змінну `x` до степеня `y` і зберегти результат як змінну `z`. (двома способами)\n",
        "5. Вивести значення змінної `z` та її тип."
      ]
    },
    {
      "cell_type": "code",
      "metadata": {
        "id": "2vu87JoBTOfH",
        "colab": {
          "base_uri": "https://localhost:8080/"
        },
        "outputId": "455aaa9b-973a-49f0-8928-3bb88fd468dc"
      },
      "source": [
        "x = int(24)\n",
        "x = float(x)\n",
        "y = int(3)\n",
        "z = x**y\n",
        "print(\"число {} має тип {}\".format(z, type(z)))\n",
        "z = pow(x, y)\n",
        "print(\"число {} має тип {}\".format(z, type(z)))\n",
        "\n"
      ],
      "execution_count": null,
      "outputs": [
        {
          "output_type": "stream",
          "name": "stdout",
          "text": [
            "число 13824.0 має тип <class 'float'>\n",
            "число 13824.0 має тип <class 'float'>\n"
          ]
        }
      ]
    },
    {
      "cell_type": "markdown",
      "metadata": {
        "id": "LirTJrM7W-cg"
      },
      "source": [
        "### Завдання №2\n",
        "\n",
        "1. Вивести запис: **\"{X} в степені {Y} дорівнює {Z}.\"**, використовуючи рядковий запис де X, Y та Z значення змінних.\n",
        "2. Перетворіть рядок так, щоб можна було прочитати лише **\"X в степені\"**, с заду наперед.\n",
        "\n",
        "> Очікуваний результат:\n",
        "```python\n",
        "x = 2\n",
        "y = 3\n",
        "\"2 в степені 3 дорівнює 8.\"\n",
        "\"інепетс в 2\"\n",
        "```"
      ]
    },
    {
      "cell_type": "code",
      "metadata": {
        "id": "8R4pqDIyW96X",
        "colab": {
          "base_uri": "https://localhost:8080/"
        },
        "outputId": "111a8f6c-d213-4ba9-f29d-4c7c0d17b66d"
      },
      "source": [
        "x = 2\n",
        "y = 3\n",
        "\n",
        "s = \"{} в степені {} дорівнює {}.\".format(x,y,x**y)\n",
        "print(s)\n",
        "substring = s[0:s.find(str(y))-1]\n",
        "print(substring[::-1])"
      ],
      "execution_count": null,
      "outputs": [
        {
          "output_type": "stream",
          "name": "stdout",
          "text": [
            "2 в степені 3 дорівнює 8.\n",
            "інепетс в 2\n"
          ]
        }
      ]
    },
    {
      "cell_type": "markdown",
      "metadata": {
        "id": "TnzAtVsKZkjc"
      },
      "source": [
        "### Завдання №3\n",
        "\n",
        "1. Створіть новий список `my_list`, який містить 5 кольорів.\n",
        "2. Перевірте чи є в вашому списку колір `\"бузковий\"`. Якщо немає, то додайте його використовуючи команду `append`.\n",
        "3. Змініть перший елемент списку на `\"рожевий\"`.\n",
        "4. Видаліть другий елемент списку та виведіть результат на екран."
      ]
    },
    {
      "cell_type": "code",
      "metadata": {
        "id": "royz-qkJZmQ8",
        "colab": {
          "base_uri": "https://localhost:8080/"
        },
        "outputId": "19dfb493-b6a2-48cf-e3f1-a5c2699d2bd9"
      },
      "source": [
        "my_list = [\n",
        "    \"червоний\",\n",
        "    \"помаранчевий\",\n",
        "    \"жовтий\",\n",
        "    \"зелений\",\n",
        "    \"синій\"\n",
        "]\n",
        "print(my_list)\n",
        "\n",
        "c = \"бузковий\"\n",
        "if(not (c in my_list)):\n",
        "    my_list.append(c)\n",
        "print(my_list)\n",
        "\n",
        "my_list[0] = \"рожевий\"\n",
        "print(my_list)\n",
        "\n",
        "my_list.pop(1)\n",
        "print(my_list)\n",
        "\n"
      ],
      "execution_count": null,
      "outputs": [
        {
          "output_type": "stream",
          "name": "stdout",
          "text": [
            "['червоний', 'помаранчевий', 'жовтий', 'зелений', 'синій']\n",
            "['червоний', 'помаранчевий', 'жовтий', 'зелений', 'синій', 'бузковий']\n",
            "['рожевий', 'помаранчевий', 'жовтий', 'зелений', 'синій', 'бузковий']\n",
            "['рожевий', 'жовтий', 'зелений', 'синій', 'бузковий']\n"
          ]
        }
      ]
    },
    {
      "cell_type": "markdown",
      "metadata": {
        "id": "bjIBnKjHceq4"
      },
      "source": [
        "### Завдання №4\n",
        "\n",
        "1. Створіть словник з країнами та їх столицями (країна - ключ, столиця - значення): Німеччина, Франція, Україна, США, Румунія, Італія. Виведіть результа.\n",
        "2. Додайте столицю Бельгії.\n",
        "3. Виведіть лише столиці."
      ]
    },
    {
      "cell_type": "code",
      "metadata": {
        "id": "A9WZujmvd3pd",
        "colab": {
          "base_uri": "https://localhost:8080/"
        },
        "outputId": "0fea8dc3-bcd3-49e6-b253-d9b62b0b3355"
      },
      "source": [
        "d = {\n",
        "    \"Німеччина\": \"Берлін\",\n",
        "    \"Франція\": \"Париж\",\n",
        "    \"Україна\": \"Київ\",\n",
        "    \"США\": \"Вашингтон\",\n",
        "    \"Румунія\": \"Бухарест\",\n",
        "    \"Італія\": \"Рим\",\n",
        "}\n",
        "print(d)\n",
        "\n",
        "d[\"Бельгія\"] = \"Брюссель\"\n",
        "print(d)\n",
        "\n",
        "print(d.values())"
      ],
      "execution_count": null,
      "outputs": [
        {
          "output_type": "stream",
          "name": "stdout",
          "text": [
            "{'Німеччина': 'Берлін', 'Франція': 'Париж', 'Україна': 'Київ', 'США': 'Вашингтон', 'Румунія': 'Бухарест', 'Італія': 'Рим'}\n",
            "{'Німеччина': 'Берлін', 'Франція': 'Париж', 'Україна': 'Київ', 'США': 'Вашингтон', 'Румунія': 'Бухарест', 'Італія': 'Рим', 'Бельгія': 'Брюссель'}\n",
            "dict_values(['Берлін', 'Париж', 'Київ', 'Вашингтон', 'Бухарест', 'Рим', 'Брюссель'])\n"
          ]
        }
      ]
    },
    {
      "cell_type": "markdown",
      "metadata": {
        "id": "2QuFFg1KTP-t"
      },
      "source": [
        "### Завдання №5\n",
        "\n",
        "Виведіть значення списку_1, що не містяться в списку_2.\n",
        "\n",
        "> Очікуваний результат:\n",
        "```python\n",
        "[1,4,6,7]\n",
        "```"
      ]
    },
    {
      "cell_type": "code",
      "metadata": {
        "id": "spnHiR02TdSL",
        "colab": {
          "base_uri": "https://localhost:8080/"
        },
        "outputId": "baa9c16c-778e-44dd-db00-258771b5d43b"
      },
      "source": [
        "list_1 = [1,2,3,4,5,6,7]\n",
        "list_2 = [2,5,3]\n",
        "\n",
        "print([x for x in list_1 if x not in list_2])\n"
      ],
      "execution_count": null,
      "outputs": [
        {
          "output_type": "stream",
          "name": "stdout",
          "text": [
            "[1, 4, 6, 7]\n"
          ]
        }
      ]
    },
    {
      "cell_type": "markdown",
      "metadata": {
        "id": "5uXdDpjET7eA"
      },
      "source": [
        "### Завдання №6\n",
        "\n",
        "порахуйте всі входження слова \"Наука\" в рядок, без урахування регістру\n",
        "\n",
        "> Очікуваний результат:\n",
        "```python\n",
        "3\n",
        "```"
      ]
    },
    {
      "cell_type": "code",
      "metadata": {
        "id": "-yLtDPyVTdrG",
        "colab": {
          "base_uri": "https://localhost:8080/"
        },
        "outputId": "aab1b622-705b-4d90-87d4-185aaf280287"
      },
      "source": [
        "string = \"Наука про дані – це наука про методи аналізу даних і вилучення\\\n",
        " з них цінної інформації та знань. Вона тісно пов’язана з такими галузями, \\\n",
        " як машинне навчання, наука про мислення, а також з технологіями для роботи \\\n",
        " з великими даними.\"\n",
        "\n",
        "print(string.lower().count('наука'))\n",
        "\n",
        "\n"
      ],
      "execution_count": null,
      "outputs": [
        {
          "output_type": "stream",
          "name": "stdout",
          "text": [
            "3\n"
          ]
        }
      ]
    },
    {
      "cell_type": "markdown",
      "metadata": {
        "id": "lORkhbauVchI"
      },
      "source": [
        "### Завдання №7\n",
        "\n",
        "Видаліть повтори зі списку та створіть кортеж. Знайдіть мінімальне та максимальне значення."
      ]
    },
    {
      "cell_type": "code",
      "metadata": {
        "id": "57Gp1maMWDWh",
        "colab": {
          "base_uri": "https://localhost:8080/"
        },
        "outputId": "6e2fe2ce-4afa-411c-9766-24ec3d30e978"
      },
      "source": [
        "my_list = [1, 4, 5, 10, 1, 3, 30, 100, 5]\n",
        "\n",
        "deduplicated = [*set(my_list)]\n",
        "\n",
        "print(deduplicated)\n",
        "\n",
        "c = tuple(deduplicated)\n",
        "\n",
        "print(c)\n",
        "\n",
        "print(min(c))\n",
        "\n",
        "print(max(c))"
      ],
      "execution_count": null,
      "outputs": [
        {
          "output_type": "stream",
          "name": "stdout",
          "text": [
            "[1, 3, 4, 5, 100, 10, 30]\n",
            "(1, 3, 4, 5, 100, 10, 30)\n",
            "1\n",
            "100\n"
          ]
        }
      ]
    },
    {
      "cell_type": "markdown",
      "metadata": {
        "id": "alRgo8HIWg14"
      },
      "source": [
        "### Завдання №8\n",
        "\n",
        "Дано дві множини  \n",
        "1. перевірити чи є перша множина підмножиною другої\n",
        "2. знайти об'єднання, перетин, різницю та симетричну різницю цих множин\n"
      ]
    },
    {
      "cell_type": "code",
      "metadata": {
        "id": "RxfbsbqsW8Up",
        "colab": {
          "base_uri": "https://localhost:8080/"
        },
        "outputId": "33d0b646-a9f1-427f-e08e-959b68525248"
      },
      "source": [
        "set_1 = {57, 83, 29}\n",
        "set_2 = {67, 73, 43, 48, 83, 57, 29}\n",
        "\n",
        "print(set_1.issubset(set_2))\n",
        "\n",
        "\n",
        "print(set_1.union(set_2))\n",
        "print(set_1.intersection(set_2))\n",
        "print(set_1.difference(set_2))\n",
        "print(set_1.symmetric_difference(set_2))\n",
        "\n"
      ],
      "execution_count": null,
      "outputs": [
        {
          "output_type": "stream",
          "name": "stdout",
          "text": [
            "True\n",
            "{67, 73, 43, 48, 83, 57, 29}\n",
            "{57, 83, 29}\n",
            "set()\n",
            "{48, 67, 73, 43}\n"
          ]
        }
      ]
    },
    {
      "cell_type": "markdown",
      "metadata": {
        "id": "5HlthU73XbMO"
      },
      "source": [
        "### Завдання №9\n",
        "\n",
        "Дано рядок `string`, порахувати кількість входжень літер \"а\", \"д\" та \"н\" та створити словник з цих літер та кількістю їх входжень. Вивести пари ключ-значення на екран\n",
        "\n",
        "> Очікуваний результат:\n",
        "```python\n",
        "dict_items([('а', 24), ('д', 5), ('н', 25)])\n",
        "```"
      ]
    },
    {
      "cell_type": "code",
      "metadata": {
        "id": "fbzuRDZujnhF",
        "colab": {
          "base_uri": "https://localhost:8080/"
        },
        "outputId": "bb2a7927-7282-4ec0-b1c4-f23dbef8c4d8"
      },
      "source": [
        "string = \"Наука про дані – це наука про методи аналізу даних і вилучення\\\n",
        " з них цінної інформації та знань. Вона тісно пов’язана з такими галузями, \\\n",
        " як машинне навчання, наука про мислення, а також з технологіями для роботи \\\n",
        " з великими даними.\"\n",
        "\n",
        "d = {\n",
        "    'а': string.count('а'),\n",
        "     'д': string.count('д'),\n",
        "     'н': string.count('н'),\n",
        "}\n",
        "print(d)\n"
      ],
      "execution_count": null,
      "outputs": [
        {
          "output_type": "stream",
          "name": "stdout",
          "text": [
            "{'а': 24, 'д': 5, 'н': 25}\n"
          ]
        }
      ]
    },
    {
      "cell_type": "markdown",
      "metadata": {
        "id": "frXoXi52twFQ"
      },
      "source": [
        "### Завдання №10\n",
        "\n",
        "Знайти суму всих елеменів словника\n",
        "\n",
        "> використайте функцію `map()`, яка використовується для застосування функції до кожного елементу итеруючого об'єкту (наприклад, списку чи словника) та повернення нового ітератора для отримання результів.\n",
        "\n",
        "> Функция `map()` имеет следующий синтаксис:\n",
        "```\n",
        "map(function, iterable, [iterable 2, iterable 3, ...])\n",
        "\n",
        "> Очікуваний результат\n",
        "```python\n",
        "390\n",
        "```"
      ]
    },
    {
      "cell_type": "code",
      "metadata": {
        "id": "JH7g50AbfVp-",
        "colab": {
          "base_uri": "https://localhost:8080/"
        },
        "outputId": "fa2b6eea-a528-4735-b1a2-baa1c2f5e3b6"
      },
      "source": [
        "my_dict = {'a': [10, 20, 30, 40],\n",
        "           'b': [22, 11, 33, 44],\n",
        "           'c': [12, 34, 56, 78]}\n",
        "\n",
        "print(sum(map(sum, my_dict.values())))\n"
      ],
      "execution_count": null,
      "outputs": [
        {
          "output_type": "stream",
          "name": "stdout",
          "text": [
            "390\n"
          ]
        }
      ]
    },
    {
      "cell_type": "markdown",
      "metadata": {
        "id": "pvVHWUF4gSm8"
      },
      "source": [
        "### Завдання №11\n",
        "\n",
        "Знайдіть друге найменше та друге найбільше значення в списку та виведіть на екран такий запис:\n",
        "\n",
        "```python\n",
        "\"Друге найменше значення - 1 та друге найбільше значення - 398.\"\n",
        "```"
      ]
    },
    {
      "cell_type": "code",
      "metadata": {
        "id": "HFL0NALUf2RG",
        "colab": {
          "base_uri": "https://localhost:8080/"
        },
        "outputId": "6d1a2bac-6e61-408f-af64-3357815c5b2c"
      },
      "source": [
        "my_list = [1,200, 34, 65, 499, 11, -4, 42, 398, 12, 3, 100]\n",
        "\n",
        "s = sorted(my_list)\n",
        "print(\"Друге найменше значення - {} та друге найбільше значення - {}.\".format(s[1], s[-2]))\n",
        "\n"
      ],
      "execution_count": null,
      "outputs": [
        {
          "output_type": "stream",
          "name": "stdout",
          "text": [
            "Друге найменше значення - 1 та друге найбільше значення - 398.\n"
          ]
        }
      ]
    },
    {
      "cell_type": "markdown",
      "metadata": {
        "id": "yK8b3Mf0guPD"
      },
      "source": [
        "### Завдання №12\n",
        "\n",
        "Об'єднайте наступні словники в один.\n",
        "\n",
        "> Очікуваний результат:\n",
        "```python\n",
        "{1: 10, 2: 20, 3: 30, 4: 40, 5: 50, 6: 60}\n",
        "```"
      ]
    },
    {
      "cell_type": "code",
      "metadata": {
        "id": "NCTujRJdg6n_",
        "colab": {
          "base_uri": "https://localhost:8080/"
        },
        "outputId": "601a63b9-c688-4687-f89f-24c4e7627ec7"
      },
      "source": [
        "dic1 = {1:10, 2:20}\n",
        "dic2 = {3:30, 4:40}\n",
        "dic3 = {5:50, 6:60}\n",
        "\n",
        "print({**dic1, **dic2, **dic3})\n",
        "\n"
      ],
      "execution_count": null,
      "outputs": [
        {
          "output_type": "stream",
          "name": "stdout",
          "text": [
            "{1: 10, 2: 20, 3: 30, 4: 40, 5: 50, 6: 60}\n"
          ]
        }
      ]
    },
    {
      "cell_type": "markdown",
      "metadata": {
        "id": "32h8Qu3ShOVM"
      },
      "source": [
        "### Завдання №13\n",
        "Створіть словник з наступних списків. Використайте функцію`zip()`\n",
        "\n",
        ">Функція `zip(a, b)` створює об'єкт-ітератор, з якого при кожному обороті циклу створюється кортеж - впорядкована пара $(a_i, b_i)$ \n",
        "\n",
        ">Очікуваний результат:\n",
        "```python\n",
        "{'червоний': '#FF0000', 'зелений': '#008000', 'синій': '#0000FF'} \n",
        "```"
      ]
    },
    {
      "cell_type": "code",
      "metadata": {
        "id": "ZBbgGomchYa3",
        "colab": {
          "base_uri": "https://localhost:8080/"
        },
        "outputId": "48545ce6-46dc-4dbc-94ba-d64847d6351f"
      },
      "source": [
        "keys = ['червоний', 'зелений', 'синій']\n",
        "values = ['#FF0000','#008000', '#0000FF']\n",
        "\n",
        "\n",
        "\n",
        "print(dict(zip(keys, values)))\n"
      ],
      "execution_count": null,
      "outputs": [
        {
          "output_type": "stream",
          "name": "stdout",
          "text": [
            "{'червоний': '#FF0000', 'зелений': '#008000', 'синій': '#0000FF'}\n"
          ]
        }
      ]
    }
  ]
}