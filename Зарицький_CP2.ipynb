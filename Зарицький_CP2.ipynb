{
  "nbformat": 4,
  "nbformat_minor": 0,
  "metadata": {
    "colab": {
      "provenance": [],
      "collapsed_sections": [
        "-zHbJdIiAfIA",
        "0Si__dC8B-8g",
        "rI3Sdi-GDP2j",
        "Cm3WFBalEEgh",
        "Sui81PYeFEl4",
        "1ctPyyM-HPxm",
        "nUwUWS_zKUKX",
        "GLnsMsEZNZdn",
        "TJG0XojtPHXo",
        "2LckyWtIRSMa",
        "3Chrw1lNTgVD",
        "kx7dST9xWGYM",
        "hWJsqYSwXZFN",
        "McSodp8lZF_M",
        "iH1JuNNjNf-Q",
        "V8VRqyTmKtG5"
      ],
      "include_colab_link": true
    },
    "kernelspec": {
      "name": "python3",
      "display_name": "Python 3"
    }
  },
  "cells": [
    {
      "cell_type": "markdown",
      "metadata": {
        "id": "view-in-github",
        "colab_type": "text"
      },
      "source": [
        "<a href=\"https://colab.research.google.com/github/trilgar/IAD2023/blob/main/%D0%97%D0%B0%D1%80%D0%B8%D1%86%D1%8C%D0%BA%D0%B8%D0%B9_CP2.ipynb\" target=\"_parent\"><img src=\"https://colab.research.google.com/assets/colab-badge.svg\" alt=\"Open In Colab\"/></a>"
      ]
    },
    {
      "cell_type": "markdown",
      "metadata": {
        "id": "1jFWt4P5ffoT"
      },
      "source": [
        "\n",
        "<center><font size=\"6\"><b>Комп'ютерний практикум 2.\n",
        "\n",
        "Python для математичних обчислень</b></font></center>"
      ]
    },
    {
      "cell_type": "markdown",
      "metadata": {
        "id": "lP0LzpGCu61C"
      },
      "source": [
        ">Мова програмування Python підтримує сторонні бібліотеки та фреймворки. Необхідні пакети можна знайти в центральному репозиторії Python — PyPI (Python Package Index — каталог пакетів Python). Існує спеціальний інструмент PIP для Python, який прискорює та спрощує цей процес.Це утиліта командного рядка, яка дозволяє встановлювати, перевстановлювати та деінсталювати PyPI пакеты простою командою `pip`.\n",
        "\n",
        "```\n",
        "$ pip install numpy\n",
        "$ pip install numpy >= 1.17 # specify the version needed\n",
        "```\n",
        "\n",
        ">Для того, щоб додати модуль в ваш робочий простір, ви можете викликати функцію командою `import`.\n",
        "\n",
        "```python\n",
        "# варіант 1\n",
        "import numpy as np # імпорт пакету зі скороченою назвою\n",
        "# варіант 2\n",
        "from numpy import linalg # імпорт лише модулю `linalg` \n",
        "# варіант 3\n",
        "from numpy import * # імпорт всих модулів пакету `numpy`\n",
        "```\n",
        "\n",
        "* Використовуючи варіант #1 ви отримуєте доступ до всіх модулів пакету `numpy` шляхом виклику команди `np.{function name}` (наприклад, `np.abs()`). \n",
        "* Використовуючи варіант #2 ви отримуєте доступ до модуля `linalg`  (наприклад, `linalg.eigvals()`). \n",
        "\n",
        "* Використовуючи варіант #3 ви отримуєте доступ до всіх модулів пакету `numpy` напряму через іх назву (наприклад `empty()`). Даний метод не рекомендується використовувати через дублювання назв модулів в різних пакетах"
      ]
    },
    {
      "cell_type": "markdown",
      "metadata": {
        "id": "SGc0fn4ksMq0"
      },
      "source": [
        "> __NumPy__ — це бібліотека Python, яка забезпечує підтримку великих багатомірних масивів та матриць значною бібліотекою високорівневих та швидкісних математичних функцій для операцій з цими масивами.\n",
        "<center><img src=\"https://encrypted-tbn0.gstatic.com/images?q=tbn:ANd9GcQIPFCW7PLmNQCYHAP_e8tOsaQ1FGhOKpGR4ZvvTcXp0wO5MA6yiBzk0iXBGPBfEfUPlec&usqp=CAU\" width=\"200\"></center>\n",
        "\n",
        "[NumPy документація](https://numpy.org/doc/)\n"
      ]
    },
    {
      "cell_type": "code",
      "metadata": {
        "id": "oNzkeClbdCvn"
      },
      "source": [
        "#імпортуємо бібліотеку NumPy\n",
        "import numpy as np"
      ],
      "execution_count": 2,
      "outputs": []
    },
    {
      "cell_type": "markdown",
      "metadata": {
        "id": "-zHbJdIiAfIA"
      },
      "source": [
        "### Створення матриць\n",
        "\n",
        "Найпростіший спосіб — за допомогою функції __`numpy.array(list, dtype=None, ...)`__.\n",
        "\n",
        "В якості першого аргументу передається інтегруючий об'єкт, елементами якого є інші інтегруючі об'єкти однакової довжини, які містять однотипні дані.\n",
        "\n",
        "Другий аргумент є опціональним та визначає тип даних матриці. Його можна не задавати, тоді тип даних буде визначатись з типу елементів першого аргументу."
      ]
    },
    {
      "cell_type": "markdown",
      "metadata": {
        "id": "0Si__dC8B-8g"
      },
      "source": [
        "### <i> Наприклад </i>"
      ]
    },
    {
      "cell_type": "code",
      "metadata": {
        "id": "p09Wq50HB-Z-",
        "colab": {
          "base_uri": "https://localhost:8080/"
        },
        "outputId": "b7d73254-8818-42bf-b499-d038c061ed95"
      },
      "source": [
        "#цілочисельна матриця\n",
        "a = np.array([[1, 2, 3], [2, 5, 6], [6, 7, 4]])\n",
        "print (\"Матриця:\\n\", a)"
      ],
      "execution_count": 3,
      "outputs": [
        {
          "output_type": "stream",
          "name": "stdout",
          "text": [
            "Матриця:\n",
            " [[1 2 3]\n",
            " [2 5 6]\n",
            " [6 7 4]]\n"
          ]
        }
      ]
    },
    {
      "cell_type": "markdown",
      "metadata": {
        "id": "fz_QD7pBCb6v"
      },
      "source": [
        "Інший спосіб створення матриць — за допомогою вбудованих функцій __`numpy.eye(N, M=None, ...)`__, __`numpy.zeros(shape, ...)`__, __`numpy.ones(shape, ...)`__.\n",
        "\n",
        "Перша функція створює вбудовану матрицю розмірності  $N \\times M$; якщо $M$ не задано, то $M = N$. \n",
        "\n",
        "Друга та третя функції створюють матриці, які складаються цілком з нулів та одиниць відповідно. В якості першого аргументу задається розмірність масиву  — кортеж цілих чисел. В двовимірному випадку це набір з двох чисел: кількість рядків та стовпців матриці."
      ]
    },
    {
      "cell_type": "markdown",
      "metadata": {
        "id": "rI3Sdi-GDP2j"
      },
      "source": [
        "### <i> Наприклад </i>"
      ]
    },
    {
      "cell_type": "code",
      "metadata": {
        "id": "Nt35r0eBDPM3",
        "colab": {
          "base_uri": "https://localhost:8080/"
        },
        "outputId": "e7eeca0d-8d3c-481e-b2ed-d9f06816ec2f"
      },
      "source": [
        "b = np.eye(5)\n",
        "print (\"Одинична матриця:\\n\", b)"
      ],
      "execution_count": 4,
      "outputs": [
        {
          "output_type": "stream",
          "name": "stdout",
          "text": [
            "Одинична матриця:\n",
            " [[1. 0. 0. 0. 0.]\n",
            " [0. 1. 0. 0. 0.]\n",
            " [0. 0. 1. 0. 0.]\n",
            " [0. 0. 0. 1. 0.]\n",
            " [0. 0. 0. 0. 1.]]\n"
          ]
        }
      ]
    },
    {
      "cell_type": "code",
      "metadata": {
        "id": "X1oxr168DYuM",
        "colab": {
          "base_uri": "https://localhost:8080/"
        },
        "outputId": "054ebc64-c996-4735-c983-f538b5f68a96"
      },
      "source": [
        "c = np.ones((7, 5))\n",
        "print (\"Матриця з одиниць:\\n\", c)"
      ],
      "execution_count": 5,
      "outputs": [
        {
          "output_type": "stream",
          "name": "stdout",
          "text": [
            "Матриця з одиниць:\n",
            " [[1. 1. 1. 1. 1.]\n",
            " [1. 1. 1. 1. 1.]\n",
            " [1. 1. 1. 1. 1.]\n",
            " [1. 1. 1. 1. 1.]\n",
            " [1. 1. 1. 1. 1.]\n",
            " [1. 1. 1. 1. 1.]\n",
            " [1. 1. 1. 1. 1.]]\n"
          ]
        }
      ]
    },
    {
      "cell_type": "markdown",
      "metadata": {
        "id": "80s_a1YnDrIo"
      },
      "source": [
        "Третій спосіб — за допомогою функції __`numpy.arange([start, ]stop, [step, ], ...)`__, яка створює одновимірний масив з проміжку __`[start, stop)`__ с заданим кроком __`step`__, та _методом_ __`array.reshape(shape)`__. \n",
        "\n",
        "Параметр __`shape`__, задає розмірність матриці (кортеж чисел)."
      ]
    },
    {
      "cell_type": "markdown",
      "metadata": {
        "id": "Cm3WFBalEEgh"
      },
      "source": [
        "### <i> Наприклад </i>"
      ]
    },
    {
      "cell_type": "code",
      "metadata": {
        "id": "r1u83x-wEI_N",
        "colab": {
          "base_uri": "https://localhost:8080/"
        },
        "outputId": "994ecb11-cb27-4f99-ac44-034e436faef8"
      },
      "source": [
        "v = np.arange(0, 24, 2)\n",
        "print (\"Вектор:\\n\", v)"
      ],
      "execution_count": 6,
      "outputs": [
        {
          "output_type": "stream",
          "name": "stdout",
          "text": [
            "Вектор:\n",
            " [ 0  2  4  6  8 10 12 14 16 18 20 22]\n"
          ]
        }
      ]
    },
    {
      "cell_type": "code",
      "metadata": {
        "id": "EfXAqbydERRr",
        "colab": {
          "base_uri": "https://localhost:8080/"
        },
        "outputId": "6454f536-a7c3-4b5b-fb0c-0822b2ea3d51"
      },
      "source": [
        "#перетворення вектора v в матрицю за допомогою команди `reshape`\n",
        "d = v.reshape((3, 4))\n",
        "print (\"Матриця:\\n\", d)"
      ],
      "execution_count": 7,
      "outputs": [
        {
          "output_type": "stream",
          "name": "stdout",
          "text": [
            "Матриця:\n",
            " [[ 0  2  4  6]\n",
            " [ 8 10 12 14]\n",
            " [16 18 20 22]]\n"
          ]
        }
      ]
    },
    {
      "cell_type": "markdown",
      "metadata": {
        "id": "xcZi4kGPEr-W"
      },
      "source": [
        ">*Більш детально про масиви `NumPy`, \n",
        "див. [документацію](http://docs.scipy.org/doc/numpy-1.10.1/user/basics.creation.html).*"
      ]
    },
    {
      "cell_type": "markdown",
      "metadata": {
        "id": "Sui81PYeFEl4"
      },
      "source": [
        "### Індексування\n",
        "\n",
        "Для отримання елементів матриці можна використовувати декілька способів.\n",
        "\n",
        "Елемент на перетині рядка __`i`__ та стовпця __`j`__ можна отримати за допомогою команди __`array[i, j]`__. \n",
        "\n",
        "___Увага:___ рядки та стовпці нумеруються з нуля!"
      ]
    },
    {
      "cell_type": "code",
      "metadata": {
        "id": "enPidUHIFzXt",
        "colab": {
          "base_uri": "https://localhost:8080/"
        },
        "outputId": "fdbb69cb-32c2-4423-ab34-e971cc748e40"
      },
      "source": [
        "print (\"Елемент d32 матриці:\", d[2, 1])"
      ],
      "execution_count": 8,
      "outputs": [
        {
          "output_type": "stream",
          "name": "stdout",
          "text": [
            "Елемент d32 матриці: 18\n"
          ]
        }
      ]
    },
    {
      "cell_type": "markdown",
      "metadata": {
        "id": "enp0j9SuFJn1"
      },
      "source": [
        "З матриці можна отримати рядки та стовпці:\n",
        " __`array[i, :]`__ або __`array[:, j]`__ відповідно:"
      ]
    },
    {
      "cell_type": "code",
      "metadata": {
        "id": "yBW6XvpaGWEO",
        "colab": {
          "base_uri": "https://localhost:8080/"
        },
        "outputId": "ff7fa592-b85e-4172-99af-4f6efc0852fa"
      },
      "source": [
        "print (\"Другий рядок матриці d:\\n\", d[1, :])\n",
        "print (\"Четвертий стовпчик матриці d:\\n\", d[:, 3])"
      ],
      "execution_count": 9,
      "outputs": [
        {
          "output_type": "stream",
          "name": "stdout",
          "text": [
            "Другий рядок матриці d:\n",
            " [ 8 10 12 14]\n",
            "Четвертий стовпчик матриці d:\n",
            " [ 6 14 22]\n"
          ]
        }
      ]
    },
    {
      "cell_type": "markdown",
      "metadata": {
        "id": "xIe5s_BbEr6T"
      },
      "source": [
        "Ще один спосіб отримання елементів матриці —  __`array[list1, list2]`__, де __`list1`__, __`list2`__ — деякі списки цілих чисел. При такій адресації одночасно переглядаються обидва списки та повертаються матриці з відповідними координатами:"
      ]
    },
    {
      "cell_type": "code",
      "metadata": {
        "id": "6UALHsDCHCEH",
        "colab": {
          "base_uri": "https://localhost:8080/"
        },
        "outputId": "6881683a-ad1e-4aa5-f2ca-cd2539aa4a8b"
      },
      "source": [
        "print (\"Елементи матриці d з координатами (1, 2) та (0, 3):\\n\", d[[1, 0], [2, 3]])"
      ],
      "execution_count": 10,
      "outputs": [
        {
          "output_type": "stream",
          "name": "stdout",
          "text": [
            "Елементи матриці d з координатами (1, 2) та (0, 3):\n",
            " [12  6]\n"
          ]
        }
      ]
    },
    {
      "cell_type": "markdown",
      "metadata": {
        "id": "XPrqzfGyHP1X"
      },
      "source": [
        ">*Більш детально про різні способи індексації в масивах\n",
        "див. [документацію](http://docs.scipy.org/doc/numpy/reference/arrays.indexing.html).*"
      ]
    },
    {
      "cell_type": "markdown",
      "metadata": {
        "id": "1ctPyyM-HPxm"
      },
      "source": [
        "### Вектори"
      ]
    },
    {
      "cell_type": "code",
      "metadata": {
        "id": "pJ-rzcSWH0tg"
      },
      "source": [
        "# задамо масиви a та b\n",
        "a = np.array([1, 2, 3])\n",
        "b = np.array([[1], [2], [3]])\n"
      ],
      "execution_count": 11,
      "outputs": []
    },
    {
      "cell_type": "code",
      "metadata": {
        "id": "4phN2X54IOAm",
        "colab": {
          "base_uri": "https://localhost:8080/"
        },
        "outputId": "c93a292b-937b-4d1f-87fe-d6c5acf9d346"
      },
      "source": [
        "print (\"Вектор:\\n\", a)\n",
        "print (\"Розмірність вектору а:\\n\", a.shape)\n",
        "print (\"Двовиміриний масив:\\n\", b)\n",
        "print (\"Розмірність масиву b:\\n\", b.shape)"
      ],
      "execution_count": 12,
      "outputs": [
        {
          "output_type": "stream",
          "name": "stdout",
          "text": [
            "Вектор:\n",
            " [1 2 3]\n",
            "Розмірність вектору а:\n",
            " (3,)\n",
            "Двовиміриний масив:\n",
            " [[1]\n",
            " [2]\n",
            " [3]]\n",
            "Розмірність масиву b:\n",
            " (3, 1)\n"
          ]
        }
      ]
    },
    {
      "cell_type": "markdown",
      "metadata": {
        "id": "hAuGdfWjIzf_"
      },
      "source": [
        "__Зверніть увагу:__ _вектор_ (одновимірний масив) та _вектор-стовпчик_ або _вектор-рядок_ (двовимірний масиви) є різними об'єктами в `NumPy`. У випадку одновимірного масиву кортеж __`shape`__ складається з одного числа та має вигляд __`(n,)`__, де __`n`__ — довжина вектора. У випадку двовимірних векторів в __`shape`__ присутня ще одна розмірність, рівна одиниці. "
      ]
    },
    {
      "cell_type": "code",
      "metadata": {
        "id": "3hwfX24TJo1U"
      },
      "source": [
        "#транспонуємо вектори\n",
        "a = a.T\n",
        "b = b.T"
      ],
      "execution_count": 13,
      "outputs": []
    },
    {
      "cell_type": "code",
      "metadata": {
        "id": "D4D5r3PfJ1WZ",
        "colab": {
          "base_uri": "https://localhost:8080/"
        },
        "outputId": "6bfef0a0-c0d9-45f7-d45a-38e9fc0f1185"
      },
      "source": [
        "print (\"Вектор не змінився при транспонуванні:\\n\", a)\n",
        "print (\"Розмірність вектору а не змінилася:\\n\", a.shape)\n",
        "print (\"Транспонований двовиміриний масив:\\n\", b)\n",
        "print (\"Розмірність транспонованого масиву b:\\n\", b.shape)"
      ],
      "execution_count": 14,
      "outputs": [
        {
          "output_type": "stream",
          "name": "stdout",
          "text": [
            "Вектор не змінився при транспонуванні:\n",
            " [1 2 3]\n",
            "Розмірність вектору а не змінилася:\n",
            " (3,)\n",
            "Транспонований двовиміриний масив:\n",
            " [[1 2 3]]\n",
            "Розмірність транспонованого масиву b:\n",
            " (1, 3)\n"
          ]
        }
      ]
    },
    {
      "cell_type": "markdown",
      "metadata": {
        "id": "nUwUWS_zKUKX"
      },
      "source": [
        "### Множення матриць та векторів\n",
        "\n",
        "__ТЕОРІЯ__ \n",
        "\n",
        "Операція __множення__ визначена для двох узгоджених матриць, коли кількість стовпців першої рівна кількості рядків другої. \n",
        "\n",
        "Нехай матриці $A$ та $B$ такі, що $A \\in \\mathbb{R}^{n \\times k}$ та $B \\in \\mathbb{R}^{k \\times m}$. __Добутком__ матриць $A$ та $B$ є матриця $C$, така що $c_{ij} = \\sum_{r=1}^{k} a_{ir}b_{rj}$, де $c_{ij}$ — елемент матриці $C$, який стоїть на перетині $i$-го рядка та $j$-го стовпця.\n",
        "\n",
        "В `NumPy` добуток матриць обчислюється за допомогою _функції_ __`numpy.dot(a, b, ...)`__ або за допомогою _методу_ __`array1.dot(array2)`__, де __`array1`__ та __`array2`__ — матриці, що перемножаються."
      ]
    },
    {
      "cell_type": "code",
      "metadata": {
        "id": "wayRYLwDLm7o"
      },
      "source": [
        "a = np.array([[1, 0], [0, 1]])\n",
        "b = np.array([[4, 1], [2, 2]])\n",
        "r1 = np.dot(a, b)\n",
        "r2 = a.dot(b)"
      ],
      "execution_count": 15,
      "outputs": []
    },
    {
      "cell_type": "code",
      "metadata": {
        "id": "daC0asyoLul_",
        "colab": {
          "base_uri": "https://localhost:8080/"
        },
        "outputId": "cc2ddfff-50de-42bd-89e1-ae93da389811"
      },
      "source": [
        "print (\"Матриця A:\\n\", a)\n",
        "print (\"Матриця B:\\n\", b)\n",
        "print (\"Результат множення функцією:\\n\", r1)\n",
        "print (\"Результат множення методом:\\n\", r2)"
      ],
      "execution_count": 16,
      "outputs": [
        {
          "output_type": "stream",
          "name": "stdout",
          "text": [
            "Матриця A:\n",
            " [[1 0]\n",
            " [0 1]]\n",
            "Матриця B:\n",
            " [[4 1]\n",
            " [2 2]]\n",
            "Результат множення функцією:\n",
            " [[4 1]\n",
            " [2 2]]\n",
            "Результат множення методом:\n",
            " [[4 1]\n",
            " [2 2]]\n"
          ]
        }
      ]
    },
    {
      "cell_type": "markdown",
      "metadata": {
        "id": "dRX94SgzHPp0"
      },
      "source": [
        "> __Зверніть увагу:__ операція __`*`__ проводить покоординатне множення, а не матричне!"
      ]
    },
    {
      "cell_type": "code",
      "metadata": {
        "id": "iTMubP1RMJAP"
      },
      "source": [
        "r = a * b"
      ],
      "execution_count": 17,
      "outputs": []
    },
    {
      "cell_type": "code",
      "metadata": {
        "id": "msFjnIDtMQ96",
        "colab": {
          "base_uri": "https://localhost:8080/"
        },
        "outputId": "3f4f547e-3c01-428d-ebd6-aa040993dbca"
      },
      "source": [
        "print (\"Матриця A:\\n\", a)\n",
        "print (\"Матриця B:\\n\", b)\n",
        "print (\"Результат покоординатного множення:\\n\", r)"
      ],
      "execution_count": 18,
      "outputs": [
        {
          "output_type": "stream",
          "name": "stdout",
          "text": [
            "Матриця A:\n",
            " [[1 0]\n",
            " [0 1]]\n",
            "Матриця B:\n",
            " [[4 1]\n",
            " [2 2]]\n",
            "Результат покоординатного множення:\n",
            " [[4 0]\n",
            " [0 2]]\n"
          ]
        }
      ]
    },
    {
      "cell_type": "markdown",
      "metadata": {
        "id": "uFdCJXPjNM1D"
      },
      "source": [
        ">*Більш детально про множення матриць в `NumPy`\n",
        "див. [документацію](http://docs.scipy.org/doc/numpy-1.10.0/reference/routines.linalg.html#matrix-and-vector-products).*"
      ]
    },
    {
      "cell_type": "markdown",
      "metadata": {
        "id": "GLnsMsEZNZdn"
      },
      "source": [
        "### Транспонування матриць\n",
        "\n",
        "__ТЕОРІЯ__ \n",
        "\n",
        "__Транспонованою матрицею__ $A^{T}$ називається матриця, утворена з вихіднох матриці $A$ шляхом заміни рядків на стовпці. Формально: елементи матриці $A^{T}$ визначаються як $a^{T}_{ij} = a_{ji}$, де $a^{T}_{ij}$ — елемент матриці $A^{T}$, який стоїть на перетині $i$-го рядка та $j$-го стовпця.\n",
        "\n",
        "В `NumPy` транспонована матриця обчислюється за допомогою функціії __`numpy.transpose()`__ обо _методу_ __`array.T`__, де __`array`__ — вихідний масив."
      ]
    },
    {
      "cell_type": "code",
      "metadata": {
        "id": "mUBdPxB2OXG1"
      },
      "source": [
        "a = np.array([[1, 2], [3, 4]])\n",
        "b = np.transpose(a)\n",
        "c = a.T"
      ],
      "execution_count": 19,
      "outputs": []
    },
    {
      "cell_type": "code",
      "metadata": {
        "id": "a_f9f2n5OZ4G",
        "colab": {
          "base_uri": "https://localhost:8080/"
        },
        "outputId": "259e40ef-83c4-4e9c-c063-ecd1ac87c9fa"
      },
      "source": [
        "print (\"Вихідна матриця:\\n\", a)\n",
        "print (\"Транспонування функцією:\\n\", b)\n",
        "print (\"Транспонування методом:\\n\",  c)"
      ],
      "execution_count": 20,
      "outputs": [
        {
          "output_type": "stream",
          "name": "stdout",
          "text": [
            "Вихідна матриця:\n",
            " [[1 2]\n",
            " [3 4]]\n",
            "Транспонування функцією:\n",
            " [[1 3]\n",
            " [2 4]]\n",
            "Транспонування методом:\n",
            " [[1 3]\n",
            " [2 4]]\n"
          ]
        }
      ]
    },
    {
      "cell_type": "markdown",
      "metadata": {
        "id": "xJOhvhteOoJ5"
      },
      "source": [
        ">*Більш детально про [numpy.transpose()](http://docs.scipy.org/doc/numpy-1.10.0/reference/generated/numpy.transpose.html) и \n",
        "[array.T](http://docs.scipy.org/doc/numpy-1.10.0/reference/generated/numpy.ndarray.T.html) в `NumPy`.*"
      ]
    },
    {
      "cell_type": "markdown",
      "metadata": {
        "id": "TJG0XojtPHXo"
      },
      "source": [
        "### Визначник матриці\n",
        "\n",
        "__ТЕОРІЯ__ \n",
        "\n",
        "Для квадратних матриць існує об'єкт (числова характеристика) __визначник__.\n",
        "\n",
        "Нехай $A$ — квадратна матриця. __Визначником__ (або __детермінантом__) матриці $A \\in \\mathbb{R}^{n \\times n}$ називається число \n",
        "\n",
        "$$\\det A = \\sum_{\\alpha_{1}, \\alpha_{2}, \\dots, \\alpha_{n}} (-1)^{N(\\alpha_{1}, \\alpha_{2}, \\dots, \\alpha_{n})} \\cdot a_{\\alpha_{1} 1} \\cdot \\cdot \\cdot a_{\\alpha_{n} n},\n",
        "$$\n",
        "де $\\alpha_{1}, \\alpha_{2}, \\dots, \\alpha_{n}$ — перестановка чисел від $1$ до $n$, $N(\\alpha_{1}, \\alpha_{2}, \\dots, \\alpha_{n})$ — число інверсій в перестановці, сума ведеться по всим можливим перестановкам довжини $n$.\n",
        "\n",
        ">Обчислення визначника матриці в `NumPy` відбувається за допомогою функції __`numpy.linalg.det(a)`__, де __`a`__ — вихідна матриця."
      ]
    },
    {
      "cell_type": "code",
      "metadata": {
        "id": "1FajkiemRCLv"
      },
      "source": [
        "a = np.array([[1, 2, 1], [1, 1, 4], [2, 3, 6]], dtype=np.float32)\n",
        "det = np.linalg.det(a)"
      ],
      "execution_count": 21,
      "outputs": []
    },
    {
      "cell_type": "code",
      "metadata": {
        "id": "82iZXhEVREQp",
        "colab": {
          "base_uri": "https://localhost:8080/"
        },
        "outputId": "4292b482-6fe6-490a-c7f7-d698bdd523e0"
      },
      "source": [
        "print (\"Матриця:\\n\", a)\n",
        "print (\"Визначник:\\n\", det)"
      ],
      "execution_count": 22,
      "outputs": [
        {
          "output_type": "stream",
          "name": "stdout",
          "text": [
            "Матриця:\n",
            " [[1. 2. 1.]\n",
            " [1. 1. 4.]\n",
            " [2. 3. 6.]]\n",
            "Визначник:\n",
            " -1.0\n"
          ]
        }
      ]
    },
    {
      "cell_type": "markdown",
      "metadata": {
        "id": "2LckyWtIRSMa"
      },
      "source": [
        "### Ранг матриці\n",
        "\n",
        "__ТЕОРІЯ__\n",
        "\n",
        "__Рангом матриці__ $A$  називається максимальна кількість лінійно незалежних рядків (стовпців) матриці.\n",
        "\n",
        "В `NumPy` ранг матриці обчислюється за допомогою функції __`numpy.linalg.matrix_rank(M, tol=None)`__, де __`M`__ — матриця, __`tol`__ — параметр, який відповідає за деяку точність обчислень. В простому випадку його можна не задавати, функція підбирає його автоматично."
      ]
    },
    {
      "cell_type": "code",
      "metadata": {
        "id": "DmpgfC_uSLGB"
      },
      "source": [
        "a = np.array([[1, 2, 3], [1, 1, 1], [2, 2, 2]])\n",
        "r = np.linalg.matrix_rank(a)"
      ],
      "execution_count": 23,
      "outputs": []
    },
    {
      "cell_type": "code",
      "metadata": {
        "id": "6x0iHSBOSRAN",
        "colab": {
          "base_uri": "https://localhost:8080/"
        },
        "outputId": "21e3da93-18ef-499f-b112-a7eed765625a"
      },
      "source": [
        "print (\"Матриця:\\n\", a)\n",
        "print (\"Ранг матриці:\", r)"
      ],
      "execution_count": 24,
      "outputs": [
        {
          "output_type": "stream",
          "name": "stdout",
          "text": [
            "Матриця:\n",
            " [[1 2 3]\n",
            " [1 1 1]\n",
            " [2 2 2]]\n",
            "Ранг матриці: 2\n"
          ]
        }
      ]
    },
    {
      "cell_type": "markdown",
      "metadata": {
        "id": "vyA4sI8ISgPS"
      },
      "source": [
        "> За допомогою рангу перевіряється лінійна залежність/незалежність системи векторів: для лінійної незалежності кількість векторів повинна співпадати з рангом системи з цих векторів.\n"
      ]
    },
    {
      "cell_type": "code",
      "metadata": {
        "id": "ljXX5TgcS__z"
      },
      "source": [
        "a = np.array([1, 2, 3])\n",
        "b = np.array([1, 1, 1])\n",
        "c = np.array([2, 3, 5])\n",
        "m = np.array([a, b, c])"
      ],
      "execution_count": 25,
      "outputs": []
    },
    {
      "cell_type": "code",
      "metadata": {
        "id": "RDcFVc86TB4T",
        "colab": {
          "base_uri": "https://localhost:8080/"
        },
        "outputId": "a2f7a600-5208-4368-d538-90cad4139f6a"
      },
      "source": [
        "print (np.linalg.matrix_rank(m) == m.shape[0])"
      ],
      "execution_count": 26,
      "outputs": [
        {
          "output_type": "stream",
          "name": "stdout",
          "text": [
            "True\n"
          ]
        }
      ]
    },
    {
      "cell_type": "markdown",
      "metadata": {
        "id": "3Chrw1lNTgVD"
      },
      "source": [
        "### Системи лінійних рівнянь\n",
        "\n",
        "__ТЕОРІЯ__ \n",
        "\n",
        "__Системою лінійних алгебраїчних рівнянь (СЛАР)__ називається система виду $Ax = b$, де $A \\in \\mathbb{R}^{n \\times m}, x \\in \\mathbb{R}^{m \\times 1}, b \\in \\mathbb{R}^{n \\times 1}$. У випадку квадратної невиродженої матриці $A$ розв'язок системи єдиний.\n",
        "\n",
        "В `NumPy` розв'язок СЛАР можна знайти за допомогою функції __`numpy.linalg.solve(a, b)`__, де перший аргумент — матриця $A$, другий — стовпчик $b$."
      ]
    },
    {
      "cell_type": "code",
      "metadata": {
        "id": "mvgGAIMMTQJT"
      },
      "source": [
        "a = np.array([[3, 1], [1, 2]])\n",
        "b = np.array([9, 8])\n",
        "x = np.linalg.solve(a, b)"
      ],
      "execution_count": 27,
      "outputs": []
    },
    {
      "cell_type": "code",
      "metadata": {
        "id": "N4u9ak_9Uf5x",
        "colab": {
          "base_uri": "https://localhost:8080/"
        },
        "outputId": "5971dcb4-fb7e-4b6e-a46d-3fbb21493532"
      },
      "source": [
        "print (\"Матриця A:\\n\", a)\n",
        "print (\"Вектор b:\\n\", b)\n",
        "print (\"Розв'язок системи:\\n\", x)"
      ],
      "execution_count": 28,
      "outputs": [
        {
          "output_type": "stream",
          "name": "stdout",
          "text": [
            "Матриця A:\n",
            " [[3 1]\n",
            " [1 2]]\n",
            "Вектор b:\n",
            " [9 8]\n",
            "Розв'язок системи:\n",
            " [2. 3.]\n"
          ]
        }
      ]
    },
    {
      "cell_type": "code",
      "metadata": {
        "id": "pAsIlomxUvxq",
        "colab": {
          "base_uri": "https://localhost:8080/"
        },
        "outputId": "2683e67a-a696-4a07-c448-2676c190be7d"
      },
      "source": [
        "#Впевнимося, що вектор x дійсно є розв'язком вихідної системи:\n",
        "print (a.dot(x))"
      ],
      "execution_count": 29,
      "outputs": [
        {
          "output_type": "stream",
          "name": "stdout",
          "text": [
            "[9. 8.]\n"
          ]
        }
      ]
    },
    {
      "cell_type": "markdown",
      "metadata": {
        "id": "AoK-GL6nVDVo"
      },
      "source": [
        "> Якщо розв'язок системи не існує, то шукають такий вектор $x$, який мінімізує вираз $\\left\\Vert Ax - b\\right\\Vert^{2}$ — так ми наблизимо  вираз $Ax$ до $b$.\n",
        "\n",
        "В `NumPy` такий псевдорозв'язок можна шукати за допомогою функції __`numpy.linalg.lstsq(a, b, ...)`__, де перші два аргументи такі ж, як і для функції __`numpy.linalg.solve()`__. \n"
      ]
    },
    {
      "cell_type": "code",
      "metadata": {
        "id": "g_mRYtrWVv7A",
        "colab": {
          "base_uri": "https://localhost:8080/"
        },
        "outputId": "a00aa752-e6ec-4737-b81f-6cd53bac0a42"
      },
      "source": [
        "a = np.array([[0, 1], [1, 1], [2, 1], [3, 1]])\n",
        "b = np.array([-1, 0.2, 0.9, 2.1])\n",
        "x, res, r, s = np.linalg.lstsq(a, b)"
      ],
      "execution_count": 30,
      "outputs": [
        {
          "output_type": "stream",
          "name": "stderr",
          "text": [
            "<ipython-input-30-32ee29679dc4>:3: FutureWarning: `rcond` parameter will change to the default of machine precision times ``max(M, N)`` where M and N are the input matrix dimensions.\n",
            "To use the future default and silence this warning we advise to pass `rcond=None`, to keep using the old, explicitly pass `rcond=-1`.\n",
            "  x, res, r, s = np.linalg.lstsq(a, b)\n"
          ]
        }
      ]
    },
    {
      "cell_type": "code",
      "metadata": {
        "id": "x1sMZHqvV0uY",
        "colab": {
          "base_uri": "https://localhost:8080/"
        },
        "outputId": "acd24273-1870-4627-e7f1-aeb3a93161f0"
      },
      "source": [
        "print (\"Матриця A:\\n\", a)\n",
        "print (\"Вектор b:\\n\", b)\n",
        "print (\"Псевдорозв'язок системи:\\n\", x)"
      ],
      "execution_count": 31,
      "outputs": [
        {
          "output_type": "stream",
          "name": "stdout",
          "text": [
            "Матриця A:\n",
            " [[0 1]\n",
            " [1 1]\n",
            " [2 1]\n",
            " [3 1]]\n",
            "Вектор b:\n",
            " [-1.   0.2  0.9  2.1]\n",
            "Псевдорозв'язок системи:\n",
            " [ 1.   -0.95]\n"
          ]
        }
      ]
    },
    {
      "cell_type": "markdown",
      "metadata": {
        "id": "kx7dST9xWGYM"
      },
      "source": [
        "### Обернена матриця\n",
        "\n",
        "__ТЕОРІЯ__  \n",
        "\n",
        "Нехай $A$ — квадратна невироджена матриця. Матриця $A^{-1}$ називається __оберненою матрицею__ до $A$, якщо \n",
        "\n",
        "$$AA^{-1} = A^{-1}A = I,\n",
        "$$ \n",
        "\n",
        "де $I$ — одинична матриця такої ж розмірності як і $A$.\n",
        "\n",
        "В `NumPy` обернені матриці обчислюються за допомогою функції __`numpy.linalg.inv(a)`__, де __`a`__ — вихідна матриця."
      ]
    },
    {
      "cell_type": "code",
      "metadata": {
        "id": "Sg_Z-7_NXAYL"
      },
      "source": [
        "a = np.array([[1, 2, 1], [1, 1, 4], [2, 3, 6]], dtype=np.float32)\n",
        "b = np.linalg.inv(a)"
      ],
      "execution_count": 32,
      "outputs": []
    },
    {
      "cell_type": "code",
      "metadata": {
        "id": "glHwFHMfXDnQ",
        "colab": {
          "base_uri": "https://localhost:8080/"
        },
        "outputId": "28e4b733-84a0-41b5-ef79-13720bf50654"
      },
      "source": [
        "print (\"Матриця A:\\n\", a)\n",
        "print (\"Обернена матриця до A:\\n\", b)\n",
        "print (\"перевірка: добуток матриці А на обернену повинен дорівнювати одиничній матриці:\\n\", a.dot(b))"
      ],
      "execution_count": 33,
      "outputs": [
        {
          "output_type": "stream",
          "name": "stdout",
          "text": [
            "Матриця A:\n",
            " [[1. 2. 1.]\n",
            " [1. 1. 4.]\n",
            " [2. 3. 6.]]\n",
            "Обернена матриця до A:\n",
            " [[ 6.  9. -7.]\n",
            " [-2. -4.  3.]\n",
            " [-1. -1.  1.]]\n",
            "перевірка: добуток матриці А на обернену повинен дорівнювати одиничній матриці:\n",
            " [[1. 0. 0.]\n",
            " [0. 1. 0.]\n",
            " [0. 0. 1.]]\n"
          ]
        }
      ]
    },
    {
      "cell_type": "markdown",
      "metadata": {
        "id": "hWJsqYSwXZFN"
      },
      "source": [
        "### Власні числа та власні вектори матриці\n",
        "\n",
        "__ТЕОРІЯ__ \n",
        "\n",
        "Нехай $A$ — квадратна матриця та $A \\in \\mathbb{R}^{n \\times n}$. __Власним вектором__ матриці $A$ називається такий ненульовий вектор $x \\in \\mathbb{R}^{n}$, що для деякого $\\lambda \\in \\mathbb{R}$ виконується рівність $Ax = \\lambda x$. При цьому $\\lambda$ називається __власним числом__ матриці $A$.\n",
        "\n",
        "В `NumPy` власні числа та власні вектори обчислюються за допомогою функції __`numpy.linalg.eig(a)`__, де __`a`__ — вихідна матриця. Як результат функція видає одновимірний масив __`w`__ власних чисел та двовимірний масив __`v`__, в якому по стовпцям записані власні вектори, так що вектор __`v[:, i]`__ відповідає власному числу __`w[i]`__."
      ]
    },
    {
      "cell_type": "code",
      "metadata": {
        "id": "PFeqfy2sYtnL"
      },
      "source": [
        "a = np.array([[-1, -6], [2, 6]])\n",
        "w, v = np.linalg.eig(a)"
      ],
      "execution_count": 34,
      "outputs": []
    },
    {
      "cell_type": "code",
      "metadata": {
        "id": "S4AZ8sBQY0SC",
        "colab": {
          "base_uri": "https://localhost:8080/"
        },
        "outputId": "1fd9e944-7240-4a11-c036-fda90a69e40d"
      },
      "source": [
        "print (\"Матриця A:\\n\", a)\n",
        "print (\"Власні числа:\\n\", w)\n",
        "print (\"Власні вектори:\\n\", v)"
      ],
      "execution_count": 35,
      "outputs": [
        {
          "output_type": "stream",
          "name": "stdout",
          "text": [
            "Матриця A:\n",
            " [[-1 -6]\n",
            " [ 2  6]]\n",
            "Власні числа:\n",
            " [2. 3.]\n",
            "Власні вектори:\n",
            " [[-0.89442719  0.83205029]\n",
            " [ 0.4472136  -0.5547002 ]]\n"
          ]
        }
      ]
    },
    {
      "cell_type": "markdown",
      "metadata": {
        "id": "McSodp8lZF_M"
      },
      "source": [
        "### Комплексні числа в Python\n",
        "\n",
        "__ТЕОРІЯ__\n",
        "\n",
        "__Комплексними числами__ називаються числа виду $x + iy$, де $x$ та $y$ — дійсні числа, а $i$ — уявна комплексна одиниця (величина, для якої виконується рівність $i^{2} = -1$). Множина всих комплексних чисел позначається $\\mathbb{C}$ \n",
        "\n",
        "> В Python  комплескні числа можно задати наступним чином (__j__ позначає уявну одиницю):"
      ]
    },
    {
      "cell_type": "code",
      "metadata": {
        "id": "99mR7L3eaDUm"
      },
      "source": [
        "a = 3 + 2j\n",
        "b = 1j"
      ],
      "execution_count": 36,
      "outputs": []
    },
    {
      "cell_type": "code",
      "metadata": {
        "id": "TP-UB8VEaGEo",
        "colab": {
          "base_uri": "https://localhost:8080/"
        },
        "outputId": "2376eab7-5f39-4575-cff6-1fbe71655987"
      },
      "source": [
        "print (\"Комплексне число a:\\n\", a)\n",
        "print (\"Комплексне число b:\\n\", b)"
      ],
      "execution_count": 37,
      "outputs": [
        {
          "output_type": "stream",
          "name": "stdout",
          "text": [
            "Комплексне число a:\n",
            " (3+2j)\n",
            "Комплексне число b:\n",
            " 1j\n"
          ]
        }
      ]
    },
    {
      "cell_type": "markdown",
      "metadata": {
        "id": "Ce32GDuTaRqc"
      },
      "source": [
        "> З комплексними числами в Python можна проводити базові арифметичні операції, як і з дійсними числами:"
      ]
    },
    {
      "cell_type": "code",
      "metadata": {
        "id": "fBdpw67YanS5",
        "colab": {
          "base_uri": "https://localhost:8080/"
        },
        "outputId": "fb0c5133-e3e1-4e7f-da52-822ce820c615"
      },
      "source": [
        "c = a * a\n",
        "d = a / (4 - 5j)\n",
        "\n",
        "print (\"Комплексне число c:\\n\", c)\n",
        "print (\"Комплексне число d:\\n\", d)"
      ],
      "execution_count": 38,
      "outputs": [
        {
          "output_type": "stream",
          "name": "stdout",
          "text": [
            "Комплексне число c:\n",
            " (5+12j)\n",
            "Комплексне число d:\n",
            " (0.0487804878048781+0.5609756097560976j)\n"
          ]
        }
      ]
    },
    {
      "cell_type": "markdown",
      "metadata": {
        "id": "ARp6row7PHGJ"
      },
      "source": [
        ">*Більш детально про наведені та інші функції модуля __`numpy.linalg`__ див. [документацію](http://docs.scipy.org/doc/numpy-1.10.0/reference/routines.linalg.html#linear-algebra-numpy-linalg).*"
      ]
    },
    {
      "cell_type": "markdown",
      "metadata": {
        "id": "7AAmDUlrWNe4"
      },
      "source": [
        "## SymPy"
      ]
    },
    {
      "cell_type": "markdown",
      "metadata": {
        "id": "YjEVW2BCJyka"
      },
      "source": [
        "> `SymPy` це бібліотека символьної математики в Python. \n",
        "\n",
        "<center><img src=\"https://upload.wikimedia.org/wikipedia/commons/thumb/5/54/Sympy_logo.svg/1200px-Sympy_logo.svg.png\" width=\"150\"></center>\n",
        "\n",
        "Може застосовуватись в таких розділах як:\n",
        "\n",
        "* Поліноми\n",
        "* Диференційне та інтегральне числення\n",
        "* Розв'язок СЛР\n",
        "* Комбінаторика\n",
        "* Дискретна математика\n",
        "* Матриці\n",
        "* Геометрія\n",
        "* Фізика\n",
        "* Статистика\n",
        "* Криптографія\n",
        "\n",
        "[SymPy документація](https://docs.sympy.org/latest/index.html)\n"
      ]
    },
    {
      "cell_type": "code",
      "metadata": {
        "id": "S9EdzGrzK0q6"
      },
      "source": [
        "#імпортуємо бібліотеку SymPy\n",
        "import sympy as sym"
      ],
      "execution_count": 39,
      "outputs": []
    },
    {
      "cell_type": "code",
      "metadata": {
        "id": "EZdXyb3KJyR8",
        "colab": {
          "base_uri": "https://localhost:8080/"
        },
        "outputId": "c41ec955-7b9d-46a3-aa85-4c3467964875"
      },
      "source": [
        "# застосуємо команду Symbol до змінних\n",
        "x = sym.Symbol('x')\n",
        "y = sym.Symbol('y')\n",
        "print(x)\n",
        "print(type(x))"
      ],
      "execution_count": 40,
      "outputs": [
        {
          "output_type": "stream",
          "name": "stdout",
          "text": [
            "x\n",
            "<class 'sympy.core.symbol.Symbol'>\n"
          ]
        }
      ]
    },
    {
      "cell_type": "markdown",
      "metadata": {
        "id": "iH1JuNNjNf-Q"
      },
      "source": [
        "### Алгебраїчні операції"
      ]
    },
    {
      "cell_type": "markdown",
      "metadata": {
        "id": "sIos1EDGdKQC"
      },
      "source": [
        "> можна обирати формат виводу результату на екран за допомогою модулю `init_printing`"
      ]
    },
    {
      "cell_type": "code",
      "metadata": {
        "id": "q_8YWCIbdWQB"
      },
      "source": [
        "from sympy.interactive.printing import init_printing\n",
        "init_printing(pretty_print=True, use_latex=True)"
      ],
      "execution_count": 41,
      "outputs": []
    },
    {
      "cell_type": "markdown",
      "metadata": {
        "id": "9NIjR8a0dV87"
      },
      "source": [
        "> розклад алгебраїчних виразів за допомогою команди `expand`"
      ]
    },
    {
      "cell_type": "code",
      "metadata": {
        "id": "1PJKpSuvNiG4",
        "colab": {
          "base_uri": "https://localhost:8080/",
          "height": 0
        },
        "outputId": "9789a208-07c3-49a7-d587-9802d8d185d0"
      },
      "source": [
        "sym.expand((x + y) ** 2)"
      ],
      "execution_count": 42,
      "outputs": [
        {
          "output_type": "execute_result",
          "data": {
            "text/plain": [
              " 2            2\n",
              "x  + 2⋅x⋅y + y "
            ],
            "image/png": "[encoded data removed]",
            "text/latex": "$\\displaystyle x^{2} + 2 x y + y^{2}$"
          },
          "metadata": {},
          "execution_count": 42
        }
      ]
    },
    {
      "cell_type": "markdown",
      "metadata": {
        "id": "WQo72B9rd0vG"
      },
      "source": [
        ">різні версії виводу на екран результату розкладу виразу\n",
        "$$x^{2} + 2 x y + y^{2}$$"
      ]
    },
    {
      "cell_type": "code",
      "metadata": {
        "id": "ZFfM3h7tAjQW",
        "colab": {
          "base_uri": "https://localhost:8080/"
        },
        "outputId": "be0cc5f7-6b82-4f07-fc4d-f5c058a4dc7c"
      },
      "source": [
        "init_printing(pretty_print=False, use_latex=False)\n",
        "sym.expand((x + y) ** 2)"
      ],
      "execution_count": 43,
      "outputs": [
        {
          "output_type": "execute_result",
          "data": {
            "text/plain": [
              "x**2 + 2*x*y + y**2"
            ]
          },
          "metadata": {},
          "execution_count": 43
        }
      ]
    },
    {
      "cell_type": "code",
      "metadata": {
        "id": "725VckqcBAXT",
        "colab": {
          "base_uri": "https://localhost:8080/",
          "height": 0
        },
        "outputId": "cdd47406-d56c-4a02-9665-d69502fc1c80"
      },
      "source": [
        "init_printing(pretty_print=False, use_latex=True)\n",
        "sym.expand((x + y) ** 2)"
      ],
      "execution_count": 44,
      "outputs": [
        {
          "output_type": "execute_result",
          "data": {
            "text/plain": [
              "x**2 + 2*x*y + y**2"
            ],
            "image/png": "[encoded data removed]",
            "text/latex": "$\\displaystyle x^{2} + 2 x y + y^{2}$"
          },
          "metadata": {},
          "execution_count": 44
        }
      ]
    },
    {
      "cell_type": "markdown",
      "metadata": {
        "id": "NjLIbQI9eA8o"
      },
      "source": [
        "> спростити алгебраїчні операції можна за допомогою команди`simplify`"
      ]
    },
    {
      "cell_type": "code",
      "metadata": {
        "id": "OdGBqLFDN05c",
        "colab": {
          "base_uri": "https://localhost:8080/",
          "height": 0
        },
        "outputId": "0e6f7f44-3732-4f84-9cea-e6518eb841df"
      },
      "source": [
        "sym.simplify((x + x * y) / x)"
      ],
      "execution_count": 45,
      "outputs": [
        {
          "output_type": "execute_result",
          "data": {
            "text/plain": [
              "y + 1"
            ],
            "image/png": "[encoded data removed]",
            "text/latex": "$\\displaystyle y + 1$"
          },
          "metadata": {},
          "execution_count": 45
        }
      ]
    },
    {
      "cell_type": "code",
      "metadata": {
        "id": "g4Mq95UiODeM",
        "colab": {
          "base_uri": "https://localhost:8080/",
          "height": 0
        },
        "outputId": "d7f09495-b860-46fb-d58d-aca9210f05e6"
      },
      "source": [
        "sym.simplify(sym.cos(x)/sym.sin(x))"
      ],
      "execution_count": 46,
      "outputs": [
        {
          "output_type": "execute_result",
          "data": {
            "text/plain": [
              "1/tan(x)"
            ],
            "image/png": "[encoded data removed]",
            "text/latex": "$\\displaystyle \\frac{1}{\\tan{\\left(x \\right)}}$"
          },
          "metadata": {},
          "execution_count": 46
        }
      ]
    },
    {
      "cell_type": "markdown",
      "metadata": {
        "id": "V8VRqyTmKtG5"
      },
      "source": [
        "### (Основи математичного аналізу) Calculus"
      ]
    },
    {
      "cell_type": "markdown",
      "metadata": {
        "id": "dFDcnoIkBepj"
      },
      "source": [
        ">__Границі (Limits)__ в SymPy можна обчислювати за допомогою функції `limit(function, variable, point)`\n",
        "\n",
        "Якщо треба обчислити limit функції $f(x)$ при $x \\rightarrow 0$, тоді запишемо `limit(f, x, 0)`:"
      ]
    },
    {
      "cell_type": "code",
      "metadata": {
        "id": "EtbvyyQ9C0he",
        "colab": {
          "base_uri": "https://localhost:8080/",
          "height": 37
        },
        "outputId": "84a56941-0169-4b11-9026-2b7854e828b4"
      },
      "source": [
        "sym.limit(sym.sin(x)/x, x, 0)"
      ],
      "execution_count": 47,
      "outputs": [
        {
          "output_type": "execute_result",
          "data": {
            "text/plain": [
              "1"
            ],
            "image/png": "[encoded data removed]",
            "text/latex": "$\\displaystyle 1$"
          },
          "metadata": {},
          "execution_count": 47
        }
      ]
    },
    {
      "cell_type": "code",
      "metadata": {
        "id": "mBGaaD-tBnyq",
        "colab": {
          "base_uri": "https://localhost:8080/",
          "height": 37
        },
        "outputId": "70da1273-1d44-4590-e896-2237da60d019"
      },
      "source": [
        "# для позначення нескінченості використовують `oo`\n",
        "sym.limit(1/x, x, sym.oo)"
      ],
      "execution_count": 48,
      "outputs": [
        {
          "output_type": "execute_result",
          "data": {
            "text/plain": [
              "0"
            ],
            "image/png": "[encoded data removed]",
            "text/latex": "$\\displaystyle 0$"
          },
          "metadata": {},
          "execution_count": 48
        }
      ]
    },
    {
      "cell_type": "markdown",
      "metadata": {
        "id": "8EeczO0hKzkj"
      },
      "source": [
        "> __Диференціювати__ в SymPy можна за допомогою команди `diff(func, var)`."
      ]
    },
    {
      "cell_type": "code",
      "metadata": {
        "id": "ix8udwObLg7J",
        "colab": {
          "base_uri": "https://localhost:8080/",
          "height": 38
        },
        "outputId": "1d2c28ca-356f-41d0-f23f-45a4a4416f16"
      },
      "source": [
        "sym.diff(x**2 + x + 1, x)"
      ],
      "execution_count": 49,
      "outputs": [
        {
          "output_type": "execute_result",
          "data": {
            "text/plain": [
              "2*x + 1"
            ],
            "image/png": "[encoded data removed]",
            "text/latex": "$\\displaystyle 2 x + 1$"
          },
          "metadata": {},
          "execution_count": 49
        }
      ]
    },
    {
      "cell_type": "code",
      "metadata": {
        "id": "938Do_gsLV6Z",
        "colab": {
          "base_uri": "https://localhost:8080/",
          "height": 38
        },
        "outputId": "83c63ac9-fc41-4bcf-97f5-7c99a3f9b17a"
      },
      "source": [
        "sym.diff(sym.sin(2 * x**2), x)"
      ],
      "execution_count": 50,
      "outputs": [
        {
          "output_type": "execute_result",
          "data": {
            "text/plain": [
              "4*x*cos(2*x**2)"
            ],
            "image/png": "[encoded data removed]",
            "text/latex": "$\\displaystyle 4 x \\cos{\\left(2 x^{2} \\right)}$"
          },
          "metadata": {},
          "execution_count": 50
        }
      ]
    },
    {
      "cell_type": "code",
      "metadata": {
        "id": "bHGcNJ3zLibR",
        "colab": {
          "base_uri": "https://localhost:8080/",
          "height": 38
        },
        "outputId": "38bf0113-8619-4eec-e79b-fe96ff28bd58"
      },
      "source": [
        "sym.diff(sym.sin(x + 2*y), x)"
      ],
      "execution_count": 51,
      "outputs": [
        {
          "output_type": "execute_result",
          "data": {
            "text/plain": [
              "cos(x + 2*y)"
            ],
            "image/png": "[encoded data removed]",
            "text/latex": "$\\displaystyle \\cos{\\left(x + 2 y \\right)}$"
          },
          "metadata": {},
          "execution_count": 51
        }
      ]
    },
    {
      "cell_type": "markdown",
      "metadata": {
        "id": "bVsM5jHUMPtk"
      },
      "source": [
        "> __Похідну старшого порядку__ знаходять використовуючу ту саму функцію, але вводять третій аргумент, де вказується порядок похідної `diff(func, var, n)`."
      ]
    },
    {
      "cell_type": "code",
      "metadata": {
        "id": "WkZ-ayv_MTNX",
        "colab": {
          "base_uri": "https://localhost:8080/"
        },
        "outputId": "0eaa1835-193b-48bf-a022-5b69606751b9"
      },
      "source": [
        "print(sym.diff(x**2 + x + 1, x, 1)) # перша похідна\n",
        "print(sym.diff(x**2 + x + 1, x, 2)) # друга похідна\n",
        "print(sym.diff(x**2 + x + 1, x, 3)) # третя похідна"
      ],
      "execution_count": 52,
      "outputs": [
        {
          "output_type": "stream",
          "name": "stdout",
          "text": [
            "2*x + 1\n",
            "2\n",
            "0\n"
          ]
        }
      ]
    },
    {
      "cell_type": "markdown",
      "metadata": {
        "id": "2LgUHQa9Moi6"
      },
      "source": [
        "> __Інтегрувати__ в SymPy можна використовуючи функцію `integrate(func,var)`"
      ]
    },
    {
      "cell_type": "code",
      "metadata": {
        "id": "vtDAvtPBMx0K",
        "colab": {
          "base_uri": "https://localhost:8080/",
          "height": 54
        },
        "outputId": "8878ad2b-7cd6-4ca6-eaa4-9245bea74abc"
      },
      "source": [
        "sym.integrate(x**2 + x + 1, x)"
      ],
      "execution_count": 53,
      "outputs": [
        {
          "output_type": "execute_result",
          "data": {
            "text/plain": [
              "x**3/3 + x**2/2 + x"
            ],
            "image/png": "[encoded data removed]",
            "text/latex": "$\\displaystyle \\frac{x^{3}}{3} + \\frac{x^{2}}{2} + x$"
          },
          "metadata": {},
          "execution_count": 53
        }
      ]
    },
    {
      "cell_type": "markdown",
      "metadata": {
        "id": "tC1kwcWFnEdz"
      },
      "source": [
        "> Для знаходження __визначеного інтеграла__ вказується не тільки змінна інтегрування в якості другого аргументу, а кортеж зі змінної та меж інтегрування `integrate(func,(var, low_bord, up_bord)`"
      ]
    },
    {
      "cell_type": "code",
      "metadata": {
        "id": "j_KLAmlIDDPM",
        "colab": {
          "base_uri": "https://localhost:8080/",
          "height": 51
        },
        "outputId": "8d1f37a1-b7b2-495b-c3ba-abf962e8ac12"
      },
      "source": [
        "sym.integrate(x**2 + x + 1, (x, -1, 1))"
      ],
      "execution_count": 54,
      "outputs": [
        {
          "output_type": "execute_result",
          "data": {
            "text/plain": [
              "8/3"
            ],
            "image/png": "[encoded data removed]",
            "text/latex": "$\\displaystyle \\frac{8}{3}$"
          },
          "metadata": {},
          "execution_count": 54
        }
      ]
    },
    {
      "cell_type": "markdown",
      "metadata": {
        "id": "AG5ND_EdDtck"
      },
      "source": [
        "### Матриці "
      ]
    },
    {
      "cell_type": "code",
      "metadata": {
        "id": "5pBgnWh6Dv26"
      },
      "source": [
        "#імпортуємо з модуля matrices функції Matrix, eye, zeros, ones, diag\n",
        "\n",
        "from sympy.matrices import Matrix, eye, zeros, ones, diag\n",
        "init_printing(pretty_print=True, use_latex=False)"
      ],
      "execution_count": 55,
      "outputs": []
    },
    {
      "cell_type": "code",
      "metadata": {
        "id": "v2XqO5PfD8jL",
        "colab": {
          "base_uri": "https://localhost:8080/"
        },
        "outputId": "cdb0e105-23d9-490c-b283-615aeda66cd9"
      },
      "source": [
        "#задамо матрицю з векторів\n",
        "Matrix([[1,0,0], [1,1,1]])"
      ],
      "execution_count": 56,
      "outputs": [
        {
          "output_type": "execute_result",
          "data": {
            "text/plain": [
              "⎡1  0  0⎤\n",
              "⎢       ⎥\n",
              "⎣1  1  1⎦"
            ]
          },
          "metadata": {},
          "execution_count": 56
        }
      ]
    },
    {
      "cell_type": "code",
      "metadata": {
        "id": "czGRQMSxETur",
        "colab": {
          "base_uri": "https://localhost:8080/"
        },
        "outputId": "b41e8922-3df7-458d-a17b-f03950118095"
      },
      "source": [
        "#задамо розмірність матриці та список елементів матриці\n",
        "Matrix(2, 3, [1, 0, 0, 1, 1, 1])"
      ],
      "execution_count": 57,
      "outputs": [
        {
          "output_type": "execute_result",
          "data": {
            "text/plain": [
              "⎡1  0  0⎤\n",
              "⎢       ⎥\n",
              "⎣1  1  1⎦"
            ]
          },
          "metadata": {},
          "execution_count": 57
        }
      ]
    },
    {
      "cell_type": "code",
      "metadata": {
        "id": "ETNCRNHJD7vK",
        "colab": {
          "base_uri": "https://localhost:8080/"
        },
        "outputId": "ea831a57-6d42-4568-d81a-07f8734baead"
      },
      "source": [
        "#задамо одиничну матрицю розмірності 3Х3\n",
        "eye(3,3)"
      ],
      "execution_count": 58,
      "outputs": [
        {
          "output_type": "execute_result",
          "data": {
            "text/plain": [
              "⎡1  0  0⎤\n",
              "⎢       ⎥\n",
              "⎢0  1  0⎥\n",
              "⎢       ⎥\n",
              "⎣0  0  1⎦"
            ]
          },
          "metadata": {},
          "execution_count": 58
        }
      ]
    },
    {
      "cell_type": "code",
      "metadata": {
        "id": "qKYkfE38Fl1f",
        "colab": {
          "base_uri": "https://localhost:8080/"
        },
        "outputId": "cfa73847-2b82-426a-fe0e-1fd376e5b862"
      },
      "source": [
        "#задамо матрицю з нулів розмірності 3х2\n",
        "zeros(3, 2)"
      ],
      "execution_count": 59,
      "outputs": [
        {
          "output_type": "execute_result",
          "data": {
            "text/plain": [
              "⎡0  0⎤\n",
              "⎢    ⎥\n",
              "⎢0  0⎥\n",
              "⎢    ⎥\n",
              "⎣0  0⎦"
            ]
          },
          "metadata": {},
          "execution_count": 59
        }
      ]
    },
    {
      "cell_type": "code",
      "metadata": {
        "id": "gsBogFoiv512",
        "colab": {
          "base_uri": "https://localhost:8080/"
        },
        "outputId": "e4661136-cf7e-4b55-982b-a70987b7f448"
      },
      "source": [
        "#задамо квадратну матрицю з нулів порядку 3\n",
        "zeros(3)"
      ],
      "execution_count": 60,
      "outputs": [
        {
          "output_type": "execute_result",
          "data": {
            "text/plain": [
              "⎡0  0  0⎤\n",
              "⎢       ⎥\n",
              "⎢0  0  0⎥\n",
              "⎢       ⎥\n",
              "⎣0  0  0⎦"
            ]
          },
          "metadata": {},
          "execution_count": 60
        }
      ]
    },
    {
      "cell_type": "code",
      "metadata": {
        "id": "Un3l5opHF7xk",
        "colab": {
          "base_uri": "https://localhost:8080/"
        },
        "outputId": "d3ca6b9d-d318-4ac7-8dc5-e323acd27f4b"
      },
      "source": [
        "# задамо вектор-стовпчик з одиниць\n",
        "ones(3,1) "
      ],
      "execution_count": 61,
      "outputs": [
        {
          "output_type": "execute_result",
          "data": {
            "text/plain": [
              "⎡1⎤\n",
              "⎢ ⎥\n",
              "⎢1⎥\n",
              "⎢ ⎥\n",
              "⎣1⎦"
            ]
          },
          "metadata": {},
          "execution_count": 61
        }
      ]
    },
    {
      "cell_type": "markdown",
      "metadata": {
        "id": "rGZgM6AVGJxa"
      },
      "source": [
        "__Базові дії над матрицями__"
      ]
    },
    {
      "cell_type": "code",
      "metadata": {
        "id": "SrsGJY8xF7p4",
        "colab": {
          "base_uri": "https://localhost:8080/"
        },
        "outputId": "9ce80410-c4af-4da5-aa7f-cac16c84b051"
      },
      "source": [
        "# матриця розмірності 3х3 заповнена впорядкованим набором від 1 до 9\n",
        "A = Matrix(3,3, range(1,10))\n",
        "A"
      ],
      "execution_count": 62,
      "outputs": [
        {
          "output_type": "execute_result",
          "data": {
            "text/plain": [
              "⎡1  2  3⎤\n",
              "⎢       ⎥\n",
              "⎢4  5  6⎥\n",
              "⎢       ⎥\n",
              "⎣7  8  9⎦"
            ]
          },
          "metadata": {},
          "execution_count": 62
        }
      ]
    },
    {
      "cell_type": "code",
      "metadata": {
        "id": "o2SEajEtF7iQ",
        "colab": {
          "base_uri": "https://localhost:8080/"
        },
        "outputId": "d6a192e5-08c0-48c1-f068-519b1a7c8d1f"
      },
      "source": [
        "# елемент А23\n",
        "A[1,2]"
      ],
      "execution_count": 63,
      "outputs": [
        {
          "output_type": "execute_result",
          "data": {
            "text/plain": [
              "6"
            ]
          },
          "metadata": {},
          "execution_count": 63
        }
      ]
    },
    {
      "cell_type": "code",
      "metadata": {
        "id": "0HqmaqyuG9O9",
        "colab": {
          "base_uri": "https://localhost:8080/"
        },
        "outputId": "ca3ef19f-1023-4024-fb12-8cc5ef25c8fe"
      },
      "source": [
        "# 3-й стовпчик матриці А\n",
        "A[0:, 2]"
      ],
      "execution_count": 64,
      "outputs": [
        {
          "output_type": "execute_result",
          "data": {
            "text/plain": [
              "⎡3⎤\n",
              "⎢ ⎥\n",
              "⎢6⎥\n",
              "⎢ ⎥\n",
              "⎣9⎦"
            ]
          },
          "metadata": {},
          "execution_count": 64
        }
      ]
    },
    {
      "cell_type": "code",
      "metadata": {
        "id": "fz8q75FVG_Lg",
        "colab": {
          "base_uri": "https://localhost:8080/"
        },
        "outputId": "a321efad-30d6-48d0-d810-5bce97a55f8c"
      },
      "source": [
        "# частина матриці А без третього рядка та стовпця\n",
        "A[0:2, 0:2]"
      ],
      "execution_count": 65,
      "outputs": [
        {
          "output_type": "execute_result",
          "data": {
            "text/plain": [
              "⎡1  2⎤\n",
              "⎢    ⎥\n",
              "⎣4  5⎦"
            ]
          },
          "metadata": {},
          "execution_count": 65
        }
      ]
    },
    {
      "cell_type": "code",
      "metadata": {
        "id": "rYFTc79xHDY9",
        "colab": {
          "base_uri": "https://localhost:8080/"
        },
        "outputId": "023ac914-6679-4ae1-bb46-d00b3e2b029f"
      },
      "source": [
        "A[:, 2]"
      ],
      "execution_count": 66,
      "outputs": [
        {
          "output_type": "execute_result",
          "data": {
            "text/plain": [
              "⎡3⎤\n",
              "⎢ ⎥\n",
              "⎢6⎥\n",
              "⎢ ⎥\n",
              "⎣9⎦"
            ]
          },
          "metadata": {},
          "execution_count": 66
        }
      ]
    },
    {
      "cell_type": "markdown",
      "metadata": {
        "id": "Ey6A9J6PHc46"
      },
      "source": [
        ">Обчислити вираз: $2A - 3B +E$"
      ]
    },
    {
      "cell_type": "code",
      "metadata": {
        "id": "a5NWCSQSG1Ty",
        "colab": {
          "base_uri": "https://localhost:8080/"
        },
        "outputId": "15c66e6b-a5c8-4a01-efac-35b04bad4572"
      },
      "source": [
        "A = Matrix([[0,3], [2, -8]])\n",
        "A"
      ],
      "execution_count": 67,
      "outputs": [
        {
          "output_type": "execute_result",
          "data": {
            "text/plain": [
              "⎡0  3 ⎤\n",
              "⎢     ⎥\n",
              "⎣2  -8⎦"
            ]
          },
          "metadata": {},
          "execution_count": 67
        }
      ]
    },
    {
      "cell_type": "code",
      "metadata": {
        "id": "XFJnmWHSHsaw",
        "colab": {
          "base_uri": "https://localhost:8080/"
        },
        "outputId": "b661ac95-862e-4a08-b29a-708c44bfe0e9"
      },
      "source": [
        "B = Matrix([[4, -5], [8, -4]])\n",
        "B"
      ],
      "execution_count": 68,
      "outputs": [
        {
          "output_type": "execute_result",
          "data": {
            "text/plain": [
              "⎡4  -5⎤\n",
              "⎢     ⎥\n",
              "⎣8  -4⎦"
            ]
          },
          "metadata": {},
          "execution_count": 68
        }
      ]
    },
    {
      "cell_type": "code",
      "metadata": {
        "id": "Wic_fYEKG1Qo",
        "colab": {
          "base_uri": "https://localhost:8080/"
        },
        "outputId": "1aab7f3a-fddd-40f3-9609-500a45f60925"
      },
      "source": [
        "E = eye(2)\n",
        "E"
      ],
      "execution_count": 69,
      "outputs": [
        {
          "output_type": "execute_result",
          "data": {
            "text/plain": [
              "⎡1  0⎤\n",
              "⎢    ⎥\n",
              "⎣0  1⎦"
            ]
          },
          "metadata": {},
          "execution_count": 69
        }
      ]
    },
    {
      "cell_type": "code",
      "metadata": {
        "id": "MiDBjS9J1UMi",
        "colab": {
          "base_uri": "https://localhost:8080/"
        },
        "outputId": "f70b5c48-f8a8-4957-de3a-a4fcaba18bd4"
      },
      "source": [
        "2*A"
      ],
      "execution_count": 70,
      "outputs": [
        {
          "output_type": "execute_result",
          "data": {
            "text/plain": [
              "⎡0   6 ⎤\n",
              "⎢      ⎥\n",
              "⎣4  -16⎦"
            ]
          },
          "metadata": {},
          "execution_count": 70
        }
      ]
    },
    {
      "cell_type": "code",
      "metadata": {
        "id": "6s-KuuKsGefy",
        "colab": {
          "base_uri": "https://localhost:8080/"
        },
        "outputId": "9eb7bb71-eece-4968-9f0c-9ce368991078"
      },
      "source": [
        "2*A - 3*B + E"
      ],
      "execution_count": 71,
      "outputs": [
        {
          "output_type": "execute_result",
          "data": {
            "text/plain": [
              "⎡-11  21⎤\n",
              "⎢       ⎥\n",
              "⎣-20  -3⎦"
            ]
          },
          "metadata": {},
          "execution_count": 71
        }
      ]
    },
    {
      "cell_type": "markdown",
      "metadata": {
        "id": "h42wsGa2H__l"
      },
      "source": [
        "> Обчислити добутки $A \\times B$ та $B \\times A$"
      ]
    },
    {
      "cell_type": "code",
      "metadata": {
        "id": "fx0CSLUpIHg6",
        "colab": {
          "base_uri": "https://localhost:8080/"
        },
        "outputId": "e6b22c64-8d96-41db-8937-c78889370c30"
      },
      "source": [
        "A = Matrix([[5,-1]])\n",
        "A"
      ],
      "execution_count": 72,
      "outputs": [
        {
          "output_type": "execute_result",
          "data": {
            "text/plain": [
              "[5  -1]"
            ]
          },
          "metadata": {},
          "execution_count": 72
        }
      ]
    },
    {
      "cell_type": "code",
      "metadata": {
        "id": "0e57_VATIKrQ",
        "colab": {
          "base_uri": "https://localhost:8080/"
        },
        "outputId": "c784b8ff-6b40-4978-83c4-704a17b107d3"
      },
      "source": [
        "B = Matrix([[4], [-8]])\n",
        "B"
      ],
      "execution_count": 73,
      "outputs": [
        {
          "output_type": "execute_result",
          "data": {
            "text/plain": [
              "⎡4 ⎤\n",
              "⎢  ⎥\n",
              "⎣-8⎦"
            ]
          },
          "metadata": {},
          "execution_count": 73
        }
      ]
    },
    {
      "cell_type": "code",
      "metadata": {
        "id": "dkT7C8BqIYWR",
        "colab": {
          "base_uri": "https://localhost:8080/"
        },
        "outputId": "fa1b9475-7b52-47bd-c1f9-ce877e7f6f31"
      },
      "source": [
        "A * B"
      ],
      "execution_count": 74,
      "outputs": [
        {
          "output_type": "execute_result",
          "data": {
            "text/plain": [
              "[28]"
            ]
          },
          "metadata": {},
          "execution_count": 74
        }
      ]
    },
    {
      "cell_type": "code",
      "metadata": {
        "id": "fTW5vu7EIb_I",
        "colab": {
          "base_uri": "https://localhost:8080/"
        },
        "outputId": "63cce9b0-5cd1-4d49-b8f7-10e2666d6268"
      },
      "source": [
        "B * A"
      ],
      "execution_count": 75,
      "outputs": [
        {
          "output_type": "execute_result",
          "data": {
            "text/plain": [
              "⎡20   -4⎤\n",
              "⎢       ⎥\n",
              "⎣-40  8 ⎦"
            ]
          },
          "metadata": {},
          "execution_count": 75
        }
      ]
    },
    {
      "cell_type": "markdown",
      "metadata": {
        "id": "2MFkbJRgqveI"
      },
      "source": [
        "__УВАГА!__\n",
        "\n",
        "На відміну від NumPy в SymPy команда `*` для матриць означає матричний добуток, а не поелементний"
      ]
    },
    {
      "cell_type": "code",
      "metadata": {
        "id": "NHilLl5lI10E",
        "colab": {
          "base_uri": "https://localhost:8080/"
        },
        "outputId": "ab5375b2-99ff-4db1-bf63-8f0cd62497a4"
      },
      "source": [
        "# визначник матриці функція det()\n",
        "A = Matrix([[1, 2, 3], [3, 6, 2], [2, 0, 1]])\n",
        "A, A.det()"
      ],
      "execution_count": 76,
      "outputs": [
        {
          "output_type": "execute_result",
          "data": {
            "text/plain": [
              "⎛⎡1  2  3⎤     ⎞\n",
              "⎜⎢       ⎥     ⎟\n",
              "⎜⎢3  6  2⎥, -28⎟\n",
              "⎜⎢       ⎥     ⎟\n",
              "⎝⎣2  0  1⎦     ⎠"
            ]
          },
          "metadata": {},
          "execution_count": 76
        }
      ]
    },
    {
      "cell_type": "code",
      "metadata": {
        "id": "OtsX1avoJMN3",
        "colab": {
          "base_uri": "https://localhost:8080/"
        },
        "outputId": "7fb4bb8c-c308-48d7-d876-679a4900fde3"
      },
      "source": [
        "#обернена матриця функція inv()\n",
        "A.inv()"
      ],
      "execution_count": 77,
      "outputs": [
        {
          "output_type": "execute_result",
          "data": {
            "text/plain": [
              "⎡-3/14  1/14  1/2 ⎤\n",
              "⎢                 ⎥\n",
              "⎢-1/28  5/28  -1/4⎥\n",
              "⎢                 ⎥\n",
              "⎣ 3/7   -1/7   0  ⎦"
            ]
          },
          "metadata": {},
          "execution_count": 77
        }
      ]
    },
    {
      "cell_type": "code",
      "metadata": {
        "id": "NgRDo9KRJP2v",
        "colab": {
          "base_uri": "https://localhost:8080/"
        },
        "outputId": "6c0b79a7-2313-4787-a326-b549103037ee"
      },
      "source": [
        "# транспонування матриці функція transpose()\n",
        "A.transpose()"
      ],
      "execution_count": 78,
      "outputs": [
        {
          "output_type": "execute_result",
          "data": {
            "text/plain": [
              "⎡1  3  2⎤\n",
              "⎢       ⎥\n",
              "⎢2  6  0⎥\n",
              "⎢       ⎥\n",
              "⎣3  2  1⎦"
            ]
          },
          "metadata": {},
          "execution_count": 78
        }
      ]
    },
    {
      "cell_type": "markdown",
      "metadata": {
        "id": "SxSR9YY5uu96"
      },
      "source": [
        "##<center>__Самостійні завдання__</center>\n",
        "\n",
        "> Скопіювати блок самостійних завдань в окремий файл ***LastName_CP2.ipynb***\n",
        "\n",
        "> Інсталюйте необхідні пакети бібліотек Python"
      ]
    },
    {
      "cell_type": "code",
      "source": [
        "import numpy as np"
      ],
      "metadata": {
        "id": "Wxlzkqn8tc0z"
      },
      "execution_count": 79,
      "outputs": []
    },
    {
      "cell_type": "markdown",
      "metadata": {
        "id": "rN6qzWf8uxn8"
      },
      "source": [
        "### Завдання №1\n",
        "\n",
        "1. Задати матрицю $A$ розмірності $4х5$ з цілих чисел. \n",
        "2. Вивести другий рядок матриці $A$.\n",
        "3. Вивести третій стовпчик матриці $A$. \n",
        "4. Вивести елемент $a_{13}$\n",
        "5. Транспонувати матрицю $A$\n",
        "5. Вивести матрицю $B$, яка є частиною матриці $A$ з перших трьох рядків та стовпців.\n",
        "6. Знайти визначник матриці $B$"
      ]
    },
    {
      "cell_type": "code",
      "metadata": {
        "id": "yts7IXxEu6xs",
        "colab": {
          "base_uri": "https://localhost:8080/"
        },
        "outputId": "816a1bca-c923-4ae9-84f3-21a8ac1d9eef"
      },
      "source": [
        "# задаємо матрицю A\n",
        "A = np.array([[1, 2, 3, 4, 5],\n",
        "              [6, 7, 8, 9, 10],\n",
        "              [11, 12, 13, 14, 15],\n",
        "              [16, 17, 18, 19, 20]])\n",
        "\n",
        "# виводимо другий рядок матриці A\n",
        "print(\"Другий рядок матриці A:\")\n",
        "print(A[1, :])\n",
        "\n",
        "# виводимо третій стовпчик матриці A\n",
        "print(\"Третій стовпчик матриці A:\")\n",
        "print(A[:, 2])\n",
        "\n",
        "# виводимо елемент a13\n",
        "print(\"Елемент a13:\")\n",
        "print(A[0, 2])\n",
        "\n",
        "# транспонуємо матрицю A\n",
        "A_T = A.T\n",
        "print(\"Транспонована матриця A:\")\n",
        "print(A_T)\n",
        "\n",
        "# виводимо матрицю B, що складається з перших трьох рядків та стовпців матриці A\n",
        "B = A[:3, :3]\n",
        "print(\"Матриця B:\")\n",
        "print(B)\n",
        "\n",
        "# знаходимо визначник матриці B\n",
        "det_B = np.linalg.det(B)\n",
        "print(\"Визначник матриці B:\")\n",
        "print(det_B)"
      ],
      "execution_count": 80,
      "outputs": [
        {
          "output_type": "stream",
          "name": "stdout",
          "text": [
            "Другий рядок матриці A:\n",
            "[ 6  7  8  9 10]\n",
            "Третій стовпчик матриці A:\n",
            "[ 3  8 13 18]\n",
            "Елемент a13:\n",
            "3\n",
            "Транспонована матриця A:\n",
            "[[ 1  6 11 16]\n",
            " [ 2  7 12 17]\n",
            " [ 3  8 13 18]\n",
            " [ 4  9 14 19]\n",
            " [ 5 10 15 20]]\n",
            "Матриця B:\n",
            "[[ 1  2  3]\n",
            " [ 6  7  8]\n",
            " [11 12 13]]\n",
            "Визначник матриці B:\n",
            "0.0\n"
          ]
        }
      ]
    },
    {
      "cell_type": "markdown",
      "metadata": {
        "id": "Q3Jfn-Awv4hX"
      },
      "source": [
        "### Завдання №2\n",
        "\n",
        "1. Задати матрицю $A$ розмірності $2х3$ з цілих чисел. \n",
        "2. Задати матрицю $B$ розмірності $3х2$ з цілих чисел\n",
        "3. Обчислити добуток $AB$ та $BA$ \n",
        "4. Перемножити поелементно $AB^T$ $BA^T$\n",
        "5. Обчислити вираз $(2A-3B^T)N$, де $N$ - квадратна матриця з одиниць, порядку, що дозволяє оперцію множення\n"
      ]
    },
    {
      "cell_type": "code",
      "metadata": {
        "id": "OlhEYu5uxeTu",
        "colab": {
          "base_uri": "https://localhost:8080/"
        },
        "outputId": "a134f42f-0f79-4246-8bf7-f77a9c107c36"
      },
      "source": [
        "# задаємо матрицю A\n",
        "A = np.array([[1, 2, 3],\n",
        "              [4, 5, 6]])\n",
        "\n",
        "# задаємо матрицю B\n",
        "B = np.array([[7, 8],\n",
        "              [9, 10],\n",
        "              [11, 12]])\n",
        "\n",
        "# обчислюємо добуток AB\n",
        "AB = np.dot(A, B)\n",
        "print(\"Добуток AB:\")\n",
        "print(AB)\n",
        "\n",
        "# обчислюємо добуток BA\n",
        "BA = np.dot(B, A)\n",
        "print(\"Добуток BA:\")\n",
        "print(BA)\n",
        "\n",
        "# обчислюємо поелементний добуток ABT та BAT\n",
        "ABT = np.multiply(A, B.T)\n",
        "BAT = np.multiply(B, A.T)\n",
        "print(\"Поелементний добуток ABT та BAT:\")\n",
        "print(ABT)\n",
        "print(BAT)\n",
        "\n",
        "# обчислюємо вираз (2A - 3BT)N\n",
        "N = np.eye(3)\n",
        "result = np.dot(2*A - 3*B.T, N)\n",
        "print(\"Вираз (2A - 3BT)N:\")\n",
        "print(result)"
      ],
      "execution_count": 81,
      "outputs": [
        {
          "output_type": "stream",
          "name": "stdout",
          "text": [
            "Добуток AB:\n",
            "[[ 58  64]\n",
            " [139 154]]\n",
            "Добуток BA:\n",
            "[[ 39  54  69]\n",
            " [ 49  68  87]\n",
            " [ 59  82 105]]\n",
            "Поелементний добуток ABT та BAT:\n",
            "[[ 7 18 33]\n",
            " [32 50 72]]\n",
            "[[ 7 32]\n",
            " [18 50]\n",
            " [33 72]]\n",
            "Вираз (2A - 3BT)N:\n",
            "[[-19. -23. -27.]\n",
            " [-16. -20. -24.]]\n"
          ]
        }
      ]
    },
    {
      "cell_type": "markdown",
      "metadata": {
        "id": "KLxBuXiKxfIb"
      },
      "source": [
        "### Завдання №3\n",
        "\n",
        "Знайти розв'язок системи лінійних рівнянь\n",
        "$$\\begin{cases}\n",
        "   2x_1+5x_2-4x_3=-3\\\\\n",
        "   3x_1-8x_2+3x_3=11\\\\\n",
        "   5x_1+6x_2-4x_3=-1\n",
        " \\end{cases} $$. \n",
        "1. Перевірити за теоремою Кронекера-Капеллі, що система має єдиний розв'язок\n",
        "1. За допомогою вбудованої функції з бібліотеки Python\n",
        "2. За допомогою матричного методу\n",
        "3. За допомогою методу Крамера \n",
        "4. Зробити перевірку, що знайдений розв'язок задовільняє систему\n",
        "5. Знайти власні числа та власні вектори матриці А\n"
      ]
    },
    {
      "cell_type": "code",
      "metadata": {
        "id": "hMWcQK6FzTpQ",
        "colab": {
          "base_uri": "https://localhost:8080/"
        },
        "outputId": "b08c0704-f66c-4d15-ba36-f30aa351c3ea"
      },
      "source": [
        "# 1\n",
        "A = np.array([[2, 5, -4], [3, -8, 3], [5, 6, -4]])\n",
        "b = np.array([-3, 11, -1])\n",
        "\n",
        "# Розширена матриця системи\n",
        "Ab = np.column_stack((A, b))\n",
        "\n",
        "# Ранг матриці A та ранг розширеної матриці Ab\n",
        "rank_A = np.linalg.matrix_rank(A)\n",
        "rank_Ab = np.linalg.matrix_rank(Ab)\n",
        "\n",
        "if rank_A == rank_Ab == 3:\n",
        "    print(\"Система має єдиний розв'язок\")\n",
        "else:\n",
        "    print(\"Система не має єдиного розв'язку\")"
      ],
      "execution_count": 82,
      "outputs": [
        {
          "output_type": "stream",
          "name": "stdout",
          "text": [
            "Система має єдиний розв'язок\n"
          ]
        }
      ]
    },
    {
      "cell_type": "code",
      "source": [
        "# 2\n",
        "x = np.linalg.solve(A, b)\n",
        "\n",
        "print(\"Розв'язок системи лінійних рівнянь:\", x)"
      ],
      "metadata": {
        "colab": {
          "base_uri": "https://localhost:8080/"
        },
        "id": "UlI6EOudw0wM",
        "outputId": "3db6e9b3-2845-4a2d-cfc1-72d313df345c"
      },
      "execution_count": 83,
      "outputs": [
        {
          "output_type": "stream",
          "name": "stdout",
          "text": [
            "Розв'язок системи лінійних рівнянь: [ 1.00000000e+00 -1.00000000e+00  7.46584759e-16]\n"
          ]
        }
      ]
    },
    {
      "cell_type": "code",
      "source": [
        "# 3\n",
        "x = np.dot(np.linalg.inv(A), b)\n",
        "print(\"Розв'язок системи за допомогою матричного методу:\", x)"
      ],
      "metadata": {
        "colab": {
          "base_uri": "https://localhost:8080/"
        },
        "id": "QjEr-tYjv8Pf",
        "outputId": "88ba53d0-1746-419e-8412-09d1abac0850"
      },
      "execution_count": 84,
      "outputs": [
        {
          "output_type": "stream",
          "name": "stdout",
          "text": [
            "Розв'язок системи за допомогою матричного методу: [ 1.00000000e+00 -1.00000000e+00  2.77555756e-16]\n"
          ]
        }
      ]
    },
    {
      "cell_type": "code",
      "source": [
        "# 4\n",
        "D = np.linalg.det(A)\n",
        "if D == 0:\n",
        "    print(\"Система рівнянь має нескінченну кількість розв'язків\")\n",
        "else:\n",
        "    D1 = np.array([[b[0], A[0, 1], A[0, 2]], [b[1], A[1, 1], A[1, 2]], [b[2], A[2, 1], A[2, 2]]])\n",
        "    D2 = np.array([[A[0, 0], b[0], A[0, 2]], [A[1, 0], b[1], A[1, 2]], [A[2, 0], b[2], A[2, 2]]])\n",
        "    D3 = np.array([[A[0, 0], A[0, 1], b[0]], [A[1, 0], A[1, 1], b[1]], [A[2, 0], A[2, 1], b[2]]])\n",
        "x1 = np.linalg.det(D1) / D\n",
        "x2 = np.linalg.det(D2) / D\n",
        "x3 = np.linalg.det(D3) / D\n",
        "\n",
        "print(\"Метод крамара:\", [x1, x2, x3])"
      ],
      "metadata": {
        "colab": {
          "base_uri": "https://localhost:8080/"
        },
        "id": "3wNZpMqcxTyk",
        "outputId": "62376893-56d7-46bf-a42f-c4ed668df181"
      },
      "execution_count": 85,
      "outputs": [
        {
          "output_type": "stream",
          "name": "stdout",
          "text": [
            "Метод крамара: [1.0, -1.0, 7.4658475858851e-16]\n"
          ]
        }
      ]
    },
    {
      "cell_type": "code",
      "source": [
        "#5\n",
        "from numpy.linalg import linalg\n",
        "\n",
        "result = A@[x1, x2,x3]\n",
        "print(\"підставимо у наше рівняння отримані розв'язки і виходить:\", result)\n",
        "if(linalg.norm(result - b) < 1e-6): print(\"відповідь підійшла\")"
      ],
      "metadata": {
        "colab": {
          "base_uri": "https://localhost:8080/"
        },
        "id": "VcOuhG4Nyau9",
        "outputId": "dfe709e6-c058-4153-b74e-659a4abb9117"
      },
      "execution_count": 86,
      "outputs": [
        {
          "output_type": "stream",
          "name": "stdout",
          "text": [
            "підставимо у наше рівняння отримані розв'язки і виходить: [-3. 11. -1.]\n",
            "відповідь підійшла\n"
          ]
        }
      ]
    },
    {
      "cell_type": "code",
      "source": [
        "#6\n",
        "eigvals, eigvecs = np.linalg.eig(A)\n",
        "print(\"Власні числа матриці А:\", eigvals)\n",
        "print(\"Власні вектори матриці А:\", eigvecs)"
      ],
      "metadata": {
        "colab": {
          "base_uri": "https://localhost:8080/"
        },
        "id": "XuvT9rJ70WTJ",
        "outputId": "293240d7-fca6-4329-bc72-4452bde6504d"
      },
      "execution_count": 87,
      "outputs": [
        {
          "output_type": "stream",
          "name": "stdout",
          "text": [
            "Власні числа матриці А: [  0.51083043+2.44937783j   0.51083043-2.44937783j\n",
            " -11.02166086+0.j        ]\n",
            "Власні вектори матриці А: [[-0.26574728-0.36956459j -0.26574728+0.36956459j  0.43184973+0.j        ]\n",
            " [-0.38275228-0.02011423j -0.38275228+0.02011423j -0.81414291+0.j        ]\n",
            " [-0.80367687+0.j         -0.80367687-0.j          0.38817153+0.j        ]]\n"
          ]
        }
      ]
    },
    {
      "cell_type": "markdown",
      "metadata": {
        "id": "_lEgieLrzm1S"
      },
      "source": [
        "### Завдання №4\n",
        "\n",
        "Знайти границі функції:\n",
        "\n",
        "1. $$\\lim_{x\\to\\infty} \\frac{2x^3+3x^2-7}{4x^2+5x-8}$$\n",
        "\n",
        "2. $$\\lim_{x\\to\\infty} \\left(\\frac{x+4}{x+8}\\right)^{-3x}$$\n",
        "3. $$\\lim_{x\\to 0} \\frac{x^2+x-12}{\\sqrt{x-2}-\\sqrt{4-x}}$$\n",
        "4. $$\\lim_{x\\to 2} \\frac{x^2-5x+6}{x^2-12x+20}$$\n",
        "5. $$\\lim_{x\\to 0} \\frac{\\tan(3x)-\\sin(3x)}{2x^2}$$\n",
        "\n",
        "\n",
        "\n",
        "\n"
      ]
    },
    {
      "cell_type": "code",
      "metadata": {
        "id": "peIh81bA2tAM",
        "colab": {
          "base_uri": "https://localhost:8080/"
        },
        "outputId": "a016b04d-be04-4e17-d805-e7ee9d944740"
      },
      "source": [
        "import sympy as sp\n",
        "from sympy.abc import x\n",
        "\n",
        "from sympy.calculus.util import *\n",
        "f = (2*x**3 + 3*x**2 - 7) / (4*x**2 + 5*x - 8)\n",
        "limit(f, x, oo)"
      ],
      "execution_count": 88,
      "outputs": [
        {
          "output_type": "execute_result",
          "data": {
            "text/plain": [
              "∞"
            ]
          },
          "metadata": {},
          "execution_count": 88
        }
      ]
    },
    {
      "cell_type": "code",
      "source": [
        "limit(((x+4)/(x+8))**(-3*x), x, oo)"
      ],
      "metadata": {
        "colab": {
          "base_uri": "https://localhost:8080/"
        },
        "id": "2H1GglWU3ZVH",
        "outputId": "b7675de2-f23c-4fd5-95dc-c2b70b5cfa6b"
      },
      "execution_count": 89,
      "outputs": [
        {
          "output_type": "execute_result",
          "data": {
            "text/plain": [
              " 12\n",
              "ℯ  "
            ]
          },
          "metadata": {},
          "execution_count": 89
        }
      ]
    },
    {
      "cell_type": "code",
      "source": [
        "f = (x**2 + x -12)/(sp.sqrt(x-2) - sp.sqrt(4-x))\n",
        "limit(f, x, 0)"
      ],
      "metadata": {
        "colab": {
          "base_uri": "https://localhost:8080/"
        },
        "id": "P1_PLKVc3vLC",
        "outputId": "2d925718-39f3-43ad-f277-d61aa826d5d6"
      },
      "execution_count": 90,
      "outputs": [
        {
          "output_type": "execute_result",
          "data": {
            "text/plain": [
              "   -12   \n",
              "─────────\n",
              "-2 + √2⋅ⅈ"
            ]
          },
          "metadata": {},
          "execution_count": 90
        }
      ]
    },
    {
      "cell_type": "code",
      "source": [
        "f = (x**2 -5*x +6)/(x**2 - 12*x + 20)\n",
        "limit(f, x, 2)"
      ],
      "metadata": {
        "colab": {
          "base_uri": "https://localhost:8080/"
        },
        "id": "0bXfOZuI6pWv",
        "outputId": "5fe3a5ca-6ad5-4e06-8475-5df60c271c75"
      },
      "execution_count": 91,
      "outputs": [
        {
          "output_type": "execute_result",
          "data": {
            "text/plain": [
              "1/8"
            ]
          },
          "metadata": {},
          "execution_count": 91
        }
      ]
    },
    {
      "cell_type": "code",
      "source": [
        "f = (sp.tan(3*x) - sp.sin(3*x))/(2*x**2)\n",
        "limit(f, x, 0)"
      ],
      "metadata": {
        "colab": {
          "base_uri": "https://localhost:8080/"
        },
        "id": "rtwsASNj6zQ4",
        "outputId": "296cfbd4-e70b-4e4f-ecda-570a68e95e41"
      },
      "execution_count": 92,
      "outputs": [
        {
          "output_type": "execute_result",
          "data": {
            "text/plain": [
              "0"
            ]
          },
          "metadata": {},
          "execution_count": 92
        }
      ]
    },
    {
      "cell_type": "markdown",
      "metadata": {
        "id": "9F0h4F4f2uIa"
      },
      "source": [
        "### Завдання №5\n",
        "\n",
        "Знайти похідну функцій\n",
        "\n",
        "1. $$y=x\\sin^3(3x)$$\n",
        "1. $$y=\\ln(x^4-\\cos^2(x))$$\n",
        "2. $$y=x^2\\tan(2x)+e^{6x}$$\n",
        "3. Знайти похідні до 3-го порядку включно\n",
        "$$y=x^2-5\\sin(4x)+3^{2x} $$\n",
        "\n"
      ]
    },
    {
      "cell_type": "code",
      "metadata": {
        "id": "JDMbSOzJ4Ah0",
        "colab": {
          "base_uri": "https://localhost:8080/"
        },
        "outputId": "9abda722-4d4e-4738-fb03-a120d7840e5a"
      },
      "source": [
        "y = x*sp.sin(3*x)**3\n",
        "\n",
        "dy_dx = sp.diff(y, x)\n",
        "\n",
        "print(dy_dx)"
      ],
      "execution_count": 93,
      "outputs": [
        {
          "output_type": "stream",
          "name": "stdout",
          "text": [
            "9*x*sin(3*x)**2*cos(3*x) + sin(3*x)**3\n"
          ]
        }
      ]
    },
    {
      "cell_type": "code",
      "source": [
        "y = sp.ln(x**4 - sp.cos(x)**2)\n",
        "\n",
        "dy_dx = sp.diff(y, x)\n",
        "\n",
        "print(dy_dx)"
      ],
      "metadata": {
        "colab": {
          "base_uri": "https://localhost:8080/"
        },
        "id": "9_huhrfOVR-m",
        "outputId": "c52d2130-5e73-4660-8fa5-03743b076d76"
      },
      "execution_count": 95,
      "outputs": [
        {
          "output_type": "stream",
          "name": "stdout",
          "text": [
            "(4*x**3 + 2*sin(x)*cos(x))/(x**4 - cos(x)**2)\n"
          ]
        }
      ]
    },
    {
      "cell_type": "code",
      "source": [
        "y = x**2 * sp.tan(2*x) + sp.exp(6*x)\n",
        "\n",
        "dy_dx = sp.diff(y, x)\n",
        "\n",
        "print(dy_dx)"
      ],
      "metadata": {
        "colab": {
          "base_uri": "https://localhost:8080/"
        },
        "id": "26QCoBgQVe5q",
        "outputId": "03e3406b-05a1-4b49-9a81-88c56d8d926f"
      },
      "execution_count": 96,
      "outputs": [
        {
          "output_type": "stream",
          "name": "stdout",
          "text": [
            "x**2*(2*tan(2*x)**2 + 2) + 2*x*tan(2*x) + 6*exp(6*x)\n"
          ]
        }
      ]
    },
    {
      "cell_type": "code",
      "source": [
        "y = x**2 - 5* sp.sin(4*x) + 3**(2*x)\n",
        "\n",
        "dy_dx = sp.diff(y, x)\n",
        "\n",
        "print(dy_dx)"
      ],
      "metadata": {
        "colab": {
          "base_uri": "https://localhost:8080/"
        },
        "id": "XKjJduBNVoP0",
        "outputId": "64d3a9fb-b4e9-42bd-d8d3-f4ecdc1f36b4"
      },
      "execution_count": 97,
      "outputs": [
        {
          "output_type": "stream",
          "name": "stdout",
          "text": [
            "2*3**(2*x)*log(3) + 2*x - 20*cos(4*x)\n"
          ]
        }
      ]
    },
    {
      "cell_type": "markdown",
      "metadata": {
        "id": "k_NcB7fE4B5S"
      },
      "source": [
        "### Завдання №6\n",
        "\n",
        "Знайти невизначений інеграл\n",
        "\n",
        "1. $$\\int \\frac{2-x}{4x^2+16x-12} \\,dx$$\n",
        "1. $$\\int \\frac{7x-1}{\\sqrt{2x^2-x+5}} \\,dx$$\n",
        "3. $$\\int \\frac{\\ln(x)}{x^3} \\,dx$$\n",
        "4. $$\\int \\frac{x\\arccos(2x)}{\\sqrt{1-4x^2}} \\,dx$$\n",
        "\n",
        "Обчислити визначений інтеграл\n",
        "\n",
        "1. $$\\int_{1}^{2} 3(x-1)^2 \\,dx$$\n",
        "2. $$\\int_{0}^{\\pi/2} \\sin^3(x) \\,dx$$\n",
        "3. $$\\int_{1}^{+\\infty} \\frac{1}{x^2+4x+13} \\,dx$$\n",
        "4. $$\\int_{1}^{+\\infty} \\frac{2+\\sin(x)}{\\sqrt{x}},dx$$\n"
      ]
    },
    {
      "cell_type": "markdown",
      "source": [
        "Невизначений"
      ],
      "metadata": {
        "id": "0zwCBuLrXRO9"
      }
    },
    {
      "cell_type": "code",
      "metadata": {
        "id": "xiaGK3hK4BPs",
        "colab": {
          "base_uri": "https://localhost:8080/"
        },
        "outputId": "edeb30ba-7cb8-42f6-9bb3-0b73dc73607b"
      },
      "source": [
        "f = (2 - x) / (4 * x**2 + 16 * x - 12)\n",
        "F = sp.integrate(f, x)\n",
        "print(F)"
      ],
      "execution_count": 98,
      "outputs": [
        {
          "output_type": "stream",
          "name": "stdout",
          "text": [
            "-(1/8 + sqrt(7)/14)*log(x + 2 + sqrt(7)) - (1/8 - sqrt(7)/14)*log(x - sqrt(7) + 2)\n"
          ]
        }
      ]
    },
    {
      "cell_type": "code",
      "source": [
        "f = (7*x-1)/(sp.sqrt(2*x**2 - x + 5))\n",
        "F = sp.integrate(f, x)\n",
        "print(F)"
      ],
      "metadata": {
        "colab": {
          "base_uri": "https://localhost:8080/"
        },
        "id": "nzIhuKJ4WZKo",
        "outputId": "07eaa777-0b75-4c0c-af3f-2b97f5266e41"
      },
      "execution_count": 102,
      "outputs": [
        {
          "output_type": "stream",
          "name": "stdout",
          "text": [
            "Integral((7*x - 1)/sqrt(2*x**2 - x + 5), x)\n"
          ]
        }
      ]
    },
    {
      "cell_type": "code",
      "source": [
        "f = (sp.ln(x))/x**3\n",
        "F = sp.integrate(f, x)\n",
        "print(F)"
      ],
      "metadata": {
        "colab": {
          "base_uri": "https://localhost:8080/"
        },
        "id": "FuaOhasoWs1E",
        "outputId": "aa3b27eb-1331-4951-d6a6-7ad0f0c2ab52"
      },
      "execution_count": 100,
      "outputs": [
        {
          "output_type": "stream",
          "name": "stdout",
          "text": [
            "-log(x)/(2*x**2) - 1/(4*x**2)\n"
          ]
        }
      ]
    },
    {
      "cell_type": "code",
      "source": [
        "f = (x * sp.acos(2*x))/(sp.sqrt(1-4*x**2))\n",
        "F = sp.integrate(f, x)\n",
        "print(F)"
      ],
      "metadata": {
        "colab": {
          "base_uri": "https://localhost:8080/"
        },
        "id": "G-UIsgfsW6dv",
        "outputId": "82dd10eb-69bb-497b-d4bc-236e120f5d7e"
      },
      "execution_count": 104,
      "outputs": [
        {
          "output_type": "stream",
          "name": "stdout",
          "text": [
            "-x/2 - sqrt(1 - 4*x**2)*acos(2*x)/4\n"
          ]
        }
      ]
    },
    {
      "cell_type": "markdown",
      "source": [
        "Визначений"
      ],
      "metadata": {
        "id": "nTL_75C8XU_l"
      }
    },
    {
      "cell_type": "code",
      "source": [
        "f = 3 * (x - 1) ** 2\n",
        "a = 1\n",
        "b = 2\n",
        "result = sp.integrate(f, (x, a, b))\n",
        "print(result)"
      ],
      "metadata": {
        "colab": {
          "base_uri": "https://localhost:8080/"
        },
        "id": "9PnunnZQXW0W",
        "outputId": "fff89c5f-0492-4a66-a9a7-4648bed5ed3d"
      },
      "execution_count": 110,
      "outputs": [
        {
          "output_type": "stream",
          "name": "stdout",
          "text": [
            "1\n"
          ]
        }
      ]
    },
    {
      "cell_type": "code",
      "source": [
        "f = sp.sin(x)**3\n",
        "a = 0\n",
        "b = sp.pi / 2 \n",
        "result = sp.integrate(f, (x, a, b))\n",
        "print(result)"
      ],
      "metadata": {
        "colab": {
          "base_uri": "https://localhost:8080/"
        },
        "id": "FrcuVbq9YU41",
        "outputId": "f9e2ce33-f040-4304-ac0f-9501d27f7337"
      },
      "execution_count": 111,
      "outputs": [
        {
          "output_type": "stream",
          "name": "stdout",
          "text": [
            "2/3\n"
          ]
        }
      ]
    },
    {
      "cell_type": "code",
      "source": [
        "f = (2 + sp.sin(x)**2)/(sp.sqrt(x))\n",
        "a = 1\n",
        "b = oo\n",
        "result = sp.integrate(f, (x, a, b))\n",
        "print(result)"
      ],
      "metadata": {
        "colab": {
          "base_uri": "https://localhost:8080/"
        },
        "id": "7wszEqmlYfZY",
        "outputId": "9383e492-0701-4230-fea0-48f895c3a9e0"
      },
      "execution_count": 119,
      "outputs": [
        {
          "output_type": "stream",
          "name": "stdout",
          "text": [
            "oo\n"
          ]
        }
      ]
    },
    {
      "cell_type": "code",
      "source": [],
      "metadata": {
        "id": "milqj15eYqqD"
      },
      "execution_count": null,
      "outputs": []
    }
  ]
}