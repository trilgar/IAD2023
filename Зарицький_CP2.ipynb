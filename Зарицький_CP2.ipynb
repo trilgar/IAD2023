{
  "nbformat": 4,
  "nbformat_minor": 0,
  "metadata": {
    "colab": {
      "provenance": [],
      "collapsed_sections": [
        "-zHbJdIiAfIA",
        "0Si__dC8B-8g",
        "rI3Sdi-GDP2j",
        "Cm3WFBalEEgh",
        "Sui81PYeFEl4",
        "1ctPyyM-HPxm",
        "nUwUWS_zKUKX",
        "GLnsMsEZNZdn",
        "TJG0XojtPHXo",
        "2LckyWtIRSMa",
        "3Chrw1lNTgVD",
        "kx7dST9xWGYM",
        "hWJsqYSwXZFN",
        "McSodp8lZF_M",
        "iH1JuNNjNf-Q",
        "V8VRqyTmKtG5"
      ],
      "include_colab_link": true
    },
    "kernelspec": {
      "name": "python3",
      "display_name": "Python 3"
    }
  },
  "cells": [
    {
      "cell_type": "markdown",
      "metadata": {
        "id": "view-in-github",
        "colab_type": "text"
      },
      "source": [
        "<a href=\"https://colab.research.google.com/github/trilgar/IAD2023/blob/main/%D0%97%D0%B0%D1%80%D0%B8%D1%86%D1%8C%D0%BA%D0%B8%D0%B9_CP2.ipynb\" target=\"_parent\"><img src=\"https://colab.research.google.com/assets/colab-badge.svg\" alt=\"Open In Colab\"/></a>"
      ]
    },
    {
      "cell_type": "markdown",
      "metadata": {
        "id": "1jFWt4P5ffoT"
      },
      "source": [
        "\n",
        "<center><font size=\"6\"><b>Комп'ютерний практикум 2.\n",
        "\n",
        "Python для математичних обчислень</b></font></center>"
      ]
    },
    {
      "cell_type": "markdown",
      "metadata": {
        "id": "SxSR9YY5uu96"
      },
      "source": [
        "##<center>__Самостійні завдання__</center>\n",
        "\n",
        "> Скопіювати блок самостійних завдань в окремий файл ***LastName_CP2.ipynb***\n",
        "\n",
        "> Інсталюйте необхідні пакети бібліотек Python"
      ]
    },
    {
      "cell_type": "code",
      "source": [
        "import numpy as np"
      ],
      "metadata": {
        "id": "Wxlzkqn8tc0z"
      },
      "execution_count": 79,
      "outputs": []
    },
    {
      "cell_type": "markdown",
      "metadata": {
        "id": "rN6qzWf8uxn8"
      },
      "source": [
        "### Завдання №1\n",
        "\n",
        "1. Задати матрицю $A$ розмірності $4х5$ з цілих чисел. \n",
        "2. Вивести другий рядок матриці $A$.\n",
        "3. Вивести третій стовпчик матриці $A$. \n",
        "4. Вивести елемент $a_{13}$\n",
        "5. Транспонувати матрицю $A$\n",
        "5. Вивести матрицю $B$, яка є частиною матриці $A$ з перших трьох рядків та стовпців.\n",
        "6. Знайти визначник матриці $B$"
      ]
    },
    {
      "cell_type": "code",
      "metadata": {
        "id": "yts7IXxEu6xs",
        "colab": {
          "base_uri": "https://localhost:8080/"
        },
        "outputId": "816a1bca-c923-4ae9-84f3-21a8ac1d9eef"
      },
      "source": [
        "# задаємо матрицю A\n",
        "A = np.array([[1, 2, 3, 4, 5],\n",
        "              [6, 7, 8, 9, 10],\n",
        "              [11, 12, 13, 14, 15],\n",
        "              [16, 17, 18, 19, 20]])\n",
        "\n",
        "# виводимо другий рядок матриці A\n",
        "print(\"Другий рядок матриці A:\")\n",
        "print(A[1, :])\n",
        "\n",
        "# виводимо третій стовпчик матриці A\n",
        "print(\"Третій стовпчик матриці A:\")\n",
        "print(A[:, 2])\n",
        "\n",
        "# виводимо елемент a13\n",
        "print(\"Елемент a13:\")\n",
        "print(A[0, 2])\n",
        "\n",
        "# транспонуємо матрицю A\n",
        "A_T = A.T\n",
        "print(\"Транспонована матриця A:\")\n",
        "print(A_T)\n",
        "\n",
        "# виводимо матрицю B, що складається з перших трьох рядків та стовпців матриці A\n",
        "B = A[:3, :3]\n",
        "print(\"Матриця B:\")\n",
        "print(B)\n",
        "\n",
        "# знаходимо визначник матриці B\n",
        "det_B = np.linalg.det(B)\n",
        "print(\"Визначник матриці B:\")\n",
        "print(det_B)"
      ],
      "execution_count": 80,
      "outputs": [
        {
          "output_type": "stream",
          "name": "stdout",
          "text": [
            "Другий рядок матриці A:\n",
            "[ 6  7  8  9 10]\n",
            "Третій стовпчик матриці A:\n",
            "[ 3  8 13 18]\n",
            "Елемент a13:\n",
            "3\n",
            "Транспонована матриця A:\n",
            "[[ 1  6 11 16]\n",
            " [ 2  7 12 17]\n",
            " [ 3  8 13 18]\n",
            " [ 4  9 14 19]\n",
            " [ 5 10 15 20]]\n",
            "Матриця B:\n",
            "[[ 1  2  3]\n",
            " [ 6  7  8]\n",
            " [11 12 13]]\n",
            "Визначник матриці B:\n",
            "0.0\n"
          ]
        }
      ]
    },
    {
      "cell_type": "markdown",
      "metadata": {
        "id": "Q3Jfn-Awv4hX"
      },
      "source": [
        "### Завдання №2\n",
        "\n",
        "1. Задати матрицю $A$ розмірності $2х3$ з цілих чисел. \n",
        "2. Задати матрицю $B$ розмірності $3х2$ з цілих чисел\n",
        "3. Обчислити добуток $AB$ та $BA$ \n",
        "4. Перемножити поелементно $AB^T$ $BA^T$\n",
        "5. Обчислити вираз $(2A-3B^T)N$, де $N$ - квадратна матриця з одиниць, порядку, що дозволяє оперцію множення\n"
      ]
    },
    {
      "cell_type": "code",
      "metadata": {
        "id": "OlhEYu5uxeTu",
        "colab": {
          "base_uri": "https://localhost:8080/"
        },
        "outputId": "a134f42f-0f79-4246-8bf7-f77a9c107c36"
      },
      "source": [
        "# задаємо матрицю A\n",
        "A = np.array([[1, 2, 3],\n",
        "              [4, 5, 6]])\n",
        "\n",
        "# задаємо матрицю B\n",
        "B = np.array([[7, 8],\n",
        "              [9, 10],\n",
        "              [11, 12]])\n",
        "\n",
        "# обчислюємо добуток AB\n",
        "AB = np.dot(A, B)\n",
        "print(\"Добуток AB:\")\n",
        "print(AB)\n",
        "\n",
        "# обчислюємо добуток BA\n",
        "BA = np.dot(B, A)\n",
        "print(\"Добуток BA:\")\n",
        "print(BA)\n",
        "\n",
        "# обчислюємо поелементний добуток ABT та BAT\n",
        "ABT = np.multiply(A, B.T)\n",
        "BAT = np.multiply(B, A.T)\n",
        "print(\"Поелементний добуток ABT та BAT:\")\n",
        "print(ABT)\n",
        "print(BAT)\n",
        "\n",
        "# обчислюємо вираз (2A - 3BT)N\n",
        "N = np.eye(3)\n",
        "result = np.dot(2*A - 3*B.T, N)\n",
        "print(\"Вираз (2A - 3BT)N:\")\n",
        "print(result)"
      ],
      "execution_count": 81,
      "outputs": [
        {
          "output_type": "stream",
          "name": "stdout",
          "text": [
            "Добуток AB:\n",
            "[[ 58  64]\n",
            " [139 154]]\n",
            "Добуток BA:\n",
            "[[ 39  54  69]\n",
            " [ 49  68  87]\n",
            " [ 59  82 105]]\n",
            "Поелементний добуток ABT та BAT:\n",
            "[[ 7 18 33]\n",
            " [32 50 72]]\n",
            "[[ 7 32]\n",
            " [18 50]\n",
            " [33 72]]\n",
            "Вираз (2A - 3BT)N:\n",
            "[[-19. -23. -27.]\n",
            " [-16. -20. -24.]]\n"
          ]
        }
      ]
    },
    {
      "cell_type": "markdown",
      "metadata": {
        "id": "KLxBuXiKxfIb"
      },
      "source": [
        "### Завдання №3\n",
        "\n",
        "Знайти розв'язок системи лінійних рівнянь\n",
        "$$\\begin{cases}\n",
        "   2x_1+5x_2-4x_3=-3\\\\\n",
        "   3x_1-8x_2+3x_3=11\\\\\n",
        "   5x_1+6x_2-4x_3=-1\n",
        " \\end{cases} $$. \n",
        "1. Перевірити за теоремою Кронекера-Капеллі, що система має єдиний розв'язок\n",
        "1. За допомогою вбудованої функції з бібліотеки Python\n",
        "2. За допомогою матричного методу\n",
        "3. За допомогою методу Крамера \n",
        "4. Зробити перевірку, що знайдений розв'язок задовільняє систему\n",
        "5. Знайти власні числа та власні вектори матриці А\n"
      ]
    },
    {
      "cell_type": "code",
      "metadata": {
        "id": "hMWcQK6FzTpQ",
        "colab": {
          "base_uri": "https://localhost:8080/"
        },
        "outputId": "b08c0704-f66c-4d15-ba36-f30aa351c3ea"
      },
      "source": [
        "# 1\n",
        "A = np.array([[2, 5, -4], [3, -8, 3], [5, 6, -4]])\n",
        "b = np.array([-3, 11, -1])\n",
        "\n",
        "# Розширена матриця системи\n",
        "Ab = np.column_stack((A, b))\n",
        "\n",
        "# Ранг матриці A та ранг розширеної матриці Ab\n",
        "rank_A = np.linalg.matrix_rank(A)\n",
        "rank_Ab = np.linalg.matrix_rank(Ab)\n",
        "\n",
        "if rank_A == rank_Ab == 3:\n",
        "    print(\"Система має єдиний розв'язок\")\n",
        "else:\n",
        "    print(\"Система не має єдиного розв'язку\")"
      ],
      "execution_count": 82,
      "outputs": [
        {
          "output_type": "stream",
          "name": "stdout",
          "text": [
            "Система має єдиний розв'язок\n"
          ]
        }
      ]
    },
    {
      "cell_type": "code",
      "source": [
        "# 2\n",
        "x = np.linalg.solve(A, b)\n",
        "\n",
        "print(\"Розв'язок системи лінійних рівнянь:\", x)"
      ],
      "metadata": {
        "colab": {
          "base_uri": "https://localhost:8080/"
        },
        "id": "UlI6EOudw0wM",
        "outputId": "3db6e9b3-2845-4a2d-cfc1-72d313df345c"
      },
      "execution_count": 83,
      "outputs": [
        {
          "output_type": "stream",
          "name": "stdout",
          "text": [
            "Розв'язок системи лінійних рівнянь: [ 1.00000000e+00 -1.00000000e+00  7.46584759e-16]\n"
          ]
        }
      ]
    },
    {
      "cell_type": "code",
      "source": [
        "# 3\n",
        "x = np.dot(np.linalg.inv(A), b)\n",
        "print(\"Розв'язок системи за допомогою матричного методу:\", x)"
      ],
      "metadata": {
        "colab": {
          "base_uri": "https://localhost:8080/"
        },
        "id": "QjEr-tYjv8Pf",
        "outputId": "88ba53d0-1746-419e-8412-09d1abac0850"
      },
      "execution_count": 84,
      "outputs": [
        {
          "output_type": "stream",
          "name": "stdout",
          "text": [
            "Розв'язок системи за допомогою матричного методу: [ 1.00000000e+00 -1.00000000e+00  2.77555756e-16]\n"
          ]
        }
      ]
    },
    {
      "cell_type": "code",
      "source": [
        "# 4\n",
        "D = np.linalg.det(A)\n",
        "if D == 0:\n",
        "    print(\"Система рівнянь має нескінченну кількість розв'язків\")\n",
        "else:\n",
        "    D1 = np.array([[b[0], A[0, 1], A[0, 2]], [b[1], A[1, 1], A[1, 2]], [b[2], A[2, 1], A[2, 2]]])\n",
        "    D2 = np.array([[A[0, 0], b[0], A[0, 2]], [A[1, 0], b[1], A[1, 2]], [A[2, 0], b[2], A[2, 2]]])\n",
        "    D3 = np.array([[A[0, 0], A[0, 1], b[0]], [A[1, 0], A[1, 1], b[1]], [A[2, 0], A[2, 1], b[2]]])\n",
        "x1 = np.linalg.det(D1) / D\n",
        "x2 = np.linalg.det(D2) / D\n",
        "x3 = np.linalg.det(D3) / D\n",
        "\n",
        "print(\"Метод крамара:\", [x1, x2, x3])"
      ],
      "metadata": {
        "colab": {
          "base_uri": "https://localhost:8080/"
        },
        "id": "3wNZpMqcxTyk",
        "outputId": "62376893-56d7-46bf-a42f-c4ed668df181"
      },
      "execution_count": 85,
      "outputs": [
        {
          "output_type": "stream",
          "name": "stdout",
          "text": [
            "Метод крамара: [1.0, -1.0, 7.4658475858851e-16]\n"
          ]
        }
      ]
    },
    {
      "cell_type": "code",
      "source": [
        "#5\n",
        "from numpy.linalg import linalg\n",
        "\n",
        "result = A@[x1, x2,x3]\n",
        "print(\"підставимо у наше рівняння отримані розв'язки і виходить:\", result)\n",
        "if(linalg.norm(result - b) < 1e-6): print(\"відповідь підійшла\")"
      ],
      "metadata": {
        "colab": {
          "base_uri": "https://localhost:8080/"
        },
        "id": "VcOuhG4Nyau9",
        "outputId": "dfe709e6-c058-4153-b74e-659a4abb9117"
      },
      "execution_count": 86,
      "outputs": [
        {
          "output_type": "stream",
          "name": "stdout",
          "text": [
            "підставимо у наше рівняння отримані розв'язки і виходить: [-3. 11. -1.]\n",
            "відповідь підійшла\n"
          ]
        }
      ]
    },
    {
      "cell_type": "code",
      "source": [
        "#6\n",
        "eigvals, eigvecs = np.linalg.eig(A)\n",
        "print(\"Власні числа матриці А:\", eigvals)\n",
        "print(\"Власні вектори матриці А:\", eigvecs)"
      ],
      "metadata": {
        "colab": {
          "base_uri": "https://localhost:8080/"
        },
        "id": "XuvT9rJ70WTJ",
        "outputId": "293240d7-fca6-4329-bc72-4452bde6504d"
      },
      "execution_count": 87,
      "outputs": [
        {
          "output_type": "stream",
          "name": "stdout",
          "text": [
            "Власні числа матриці А: [  0.51083043+2.44937783j   0.51083043-2.44937783j\n",
            " -11.02166086+0.j        ]\n",
            "Власні вектори матриці А: [[-0.26574728-0.36956459j -0.26574728+0.36956459j  0.43184973+0.j        ]\n",
            " [-0.38275228-0.02011423j -0.38275228+0.02011423j -0.81414291+0.j        ]\n",
            " [-0.80367687+0.j         -0.80367687-0.j          0.38817153+0.j        ]]\n"
          ]
        }
      ]
    },
    {
      "cell_type": "markdown",
      "metadata": {
        "id": "_lEgieLrzm1S"
      },
      "source": [
        "### Завдання №4\n",
        "\n",
        "Знайти границі функції:\n",
        "\n",
        "1. $$\\lim_{x\\to\\infty} \\frac{2x^3+3x^2-7}{4x^2+5x-8}$$\n",
        "\n",
        "2. $$\\lim_{x\\to\\infty} \\left(\\frac{x+4}{x+8}\\right)^{-3x}$$\n",
        "3. $$\\lim_{x\\to 0} \\frac{x^2+x-12}{\\sqrt{x-2}-\\sqrt{4-x}}$$\n",
        "4. $$\\lim_{x\\to 2} \\frac{x^2-5x+6}{x^2-12x+20}$$\n",
        "5. $$\\lim_{x\\to 0} \\frac{\\tan(3x)-\\sin(3x)}{2x^2}$$\n",
        "\n",
        "\n",
        "\n",
        "\n"
      ]
    },
    {
      "cell_type": "code",
      "metadata": {
        "id": "peIh81bA2tAM",
        "colab": {
          "base_uri": "https://localhost:8080/"
        },
        "outputId": "a016b04d-be04-4e17-d805-e7ee9d944740"
      },
      "source": [
        "import sympy as sp\n",
        "from sympy.abc import x\n",
        "\n",
        "from sympy.calculus.util import *\n",
        "f = (2*x**3 + 3*x**2 - 7) / (4*x**2 + 5*x - 8)\n",
        "limit(f, x, oo)"
      ],
      "execution_count": 88,
      "outputs": [
        {
          "output_type": "execute_result",
          "data": {
            "text/plain": [
              "∞"
            ]
          },
          "metadata": {},
          "execution_count": 88
        }
      ]
    },
    {
      "cell_type": "code",
      "source": [
        "limit(((x+4)/(x+8))**(-3*x), x, oo)"
      ],
      "metadata": {
        "colab": {
          "base_uri": "https://localhost:8080/"
        },
        "id": "2H1GglWU3ZVH",
        "outputId": "b7675de2-f23c-4fd5-95dc-c2b70b5cfa6b"
      },
      "execution_count": 89,
      "outputs": [
        {
          "output_type": "execute_result",
          "data": {
            "text/plain": [
              " 12\n",
              "ℯ  "
            ]
          },
          "metadata": {},
          "execution_count": 89
        }
      ]
    },
    {
      "cell_type": "code",
      "source": [
        "f = (x**2 + x -12)/(sp.sqrt(x-2) - sp.sqrt(4-x))\n",
        "limit(f, x, 0)"
      ],
      "metadata": {
        "colab": {
          "base_uri": "https://localhost:8080/"
        },
        "id": "P1_PLKVc3vLC",
        "outputId": "2d925718-39f3-43ad-f277-d61aa826d5d6"
      },
      "execution_count": 90,
      "outputs": [
        {
          "output_type": "execute_result",
          "data": {
            "text/plain": [
              "   -12   \n",
              "─────────\n",
              "-2 + √2⋅ⅈ"
            ]
          },
          "metadata": {},
          "execution_count": 90
        }
      ]
    },
    {
      "cell_type": "code",
      "source": [
        "f = (x**2 -5*x +6)/(x**2 - 12*x + 20)\n",
        "limit(f, x, 2)"
      ],
      "metadata": {
        "colab": {
          "base_uri": "https://localhost:8080/"
        },
        "id": "0bXfOZuI6pWv",
        "outputId": "5fe3a5ca-6ad5-4e06-8475-5df60c271c75"
      },
      "execution_count": 91,
      "outputs": [
        {
          "output_type": "execute_result",
          "data": {
            "text/plain": [
              "1/8"
            ]
          },
          "metadata": {},
          "execution_count": 91
        }
      ]
    },
    {
      "cell_type": "code",
      "source": [
        "f = (sp.tan(3*x) - sp.sin(3*x))/(2*x**2)\n",
        "limit(f, x, 0)"
      ],
      "metadata": {
        "colab": {
          "base_uri": "https://localhost:8080/"
        },
        "id": "rtwsASNj6zQ4",
        "outputId": "296cfbd4-e70b-4e4f-ecda-570a68e95e41"
      },
      "execution_count": 92,
      "outputs": [
        {
          "output_type": "execute_result",
          "data": {
            "text/plain": [
              "0"
            ]
          },
          "metadata": {},
          "execution_count": 92
        }
      ]
    },
    {
      "cell_type": "markdown",
      "metadata": {
        "id": "9F0h4F4f2uIa"
      },
      "source": [
        "### Завдання №5\n",
        "\n",
        "Знайти похідну функцій\n",
        "\n",
        "1. $$y=x\\sin^3(3x)$$\n",
        "1. $$y=\\ln(x^4-\\cos^2(x))$$\n",
        "2. $$y=x^2\\tan(2x)+e^{6x}$$\n",
        "3. Знайти похідні до 3-го порядку включно\n",
        "$$y=x^2-5\\sin(4x)+3^{2x} $$\n",
        "\n"
      ]
    },
    {
      "cell_type": "code",
      "metadata": {
        "id": "JDMbSOzJ4Ah0",
        "colab": {
          "base_uri": "https://localhost:8080/"
        },
        "outputId": "9abda722-4d4e-4738-fb03-a120d7840e5a"
      },
      "source": [
        "y = x*sp.sin(3*x)**3\n",
        "\n",
        "dy_dx = sp.diff(y, x)\n",
        "\n",
        "print(dy_dx)"
      ],
      "execution_count": 93,
      "outputs": [
        {
          "output_type": "stream",
          "name": "stdout",
          "text": [
            "9*x*sin(3*x)**2*cos(3*x) + sin(3*x)**3\n"
          ]
        }
      ]
    },
    {
      "cell_type": "code",
      "source": [
        "y = sp.ln(x**4 - sp.cos(x)**2)\n",
        "\n",
        "dy_dx = sp.diff(y, x)\n",
        "\n",
        "print(dy_dx)"
      ],
      "metadata": {
        "colab": {
          "base_uri": "https://localhost:8080/"
        },
        "id": "9_huhrfOVR-m",
        "outputId": "c52d2130-5e73-4660-8fa5-03743b076d76"
      },
      "execution_count": 95,
      "outputs": [
        {
          "output_type": "stream",
          "name": "stdout",
          "text": [
            "(4*x**3 + 2*sin(x)*cos(x))/(x**4 - cos(x)**2)\n"
          ]
        }
      ]
    },
    {
      "cell_type": "code",
      "source": [
        "y = x**2 * sp.tan(2*x) + sp.exp(6*x)\n",
        "\n",
        "dy_dx = sp.diff(y, x)\n",
        "\n",
        "print(dy_dx)"
      ],
      "metadata": {
        "colab": {
          "base_uri": "https://localhost:8080/"
        },
        "id": "26QCoBgQVe5q",
        "outputId": "03e3406b-05a1-4b49-9a81-88c56d8d926f"
      },
      "execution_count": 96,
      "outputs": [
        {
          "output_type": "stream",
          "name": "stdout",
          "text": [
            "x**2*(2*tan(2*x)**2 + 2) + 2*x*tan(2*x) + 6*exp(6*x)\n"
          ]
        }
      ]
    },
    {
      "cell_type": "code",
      "source": [
        "y = x**2 - 5* sp.sin(4*x) + 3**(2*x)\n",
        "\n",
        "dy_dx = sp.diff(y, x)\n",
        "\n",
        "print(dy_dx)"
      ],
      "metadata": {
        "colab": {
          "base_uri": "https://localhost:8080/"
        },
        "id": "XKjJduBNVoP0",
        "outputId": "64d3a9fb-b4e9-42bd-d8d3-f4ecdc1f36b4"
      },
      "execution_count": 97,
      "outputs": [
        {
          "output_type": "stream",
          "name": "stdout",
          "text": [
            "2*3**(2*x)*log(3) + 2*x - 20*cos(4*x)\n"
          ]
        }
      ]
    },
    {
      "cell_type": "markdown",
      "metadata": {
        "id": "k_NcB7fE4B5S"
      },
      "source": [
        "### Завдання №6\n",
        "\n",
        "Знайти невизначений інеграл\n",
        "\n",
        "1. $$\\int \\frac{2-x}{4x^2+16x-12} \\,dx$$\n",
        "1. $$\\int \\frac{7x-1}{\\sqrt{2x^2-x+5}} \\,dx$$\n",
        "3. $$\\int \\frac{\\ln(x)}{x^3} \\,dx$$\n",
        "4. $$\\int \\frac{x\\arccos(2x)}{\\sqrt{1-4x^2}} \\,dx$$\n",
        "\n",
        "Обчислити визначений інтеграл\n",
        "\n",
        "1. $$\\int_{1}^{2} 3(x-1)^2 \\,dx$$\n",
        "2. $$\\int_{0}^{\\pi/2} \\sin^3(x) \\,dx$$\n",
        "3. $$\\int_{1}^{+\\infty} \\frac{1}{x^2+4x+13} \\,dx$$\n",
        "4. $$\\int_{1}^{+\\infty} \\frac{2+\\sin(x)}{\\sqrt{x}},dx$$\n"
      ]
    },
    {
      "cell_type": "markdown",
      "source": [
        "Невизначений"
      ],
      "metadata": {
        "id": "0zwCBuLrXRO9"
      }
    },
    {
      "cell_type": "code",
      "metadata": {
        "id": "xiaGK3hK4BPs",
        "colab": {
          "base_uri": "https://localhost:8080/"
        },
        "outputId": "edeb30ba-7cb8-42f6-9bb3-0b73dc73607b"
      },
      "source": [
        "f = (2 - x) / (4 * x**2 + 16 * x - 12)\n",
        "F = sp.integrate(f, x)\n",
        "print(F)"
      ],
      "execution_count": 98,
      "outputs": [
        {
          "output_type": "stream",
          "name": "stdout",
          "text": [
            "-(1/8 + sqrt(7)/14)*log(x + 2 + sqrt(7)) - (1/8 - sqrt(7)/14)*log(x - sqrt(7) + 2)\n"
          ]
        }
      ]
    },
    {
      "cell_type": "code",
      "source": [
        "f = (7*x-1)/(sp.sqrt(2*x**2 - x + 5))\n",
        "F = sp.integrate(f, x)\n",
        "print(F)"
      ],
      "metadata": {
        "colab": {
          "base_uri": "https://localhost:8080/"
        },
        "id": "nzIhuKJ4WZKo",
        "outputId": "07eaa777-0b75-4c0c-af3f-2b97f5266e41"
      },
      "execution_count": 102,
      "outputs": [
        {
          "output_type": "stream",
          "name": "stdout",
          "text": [
            "Integral((7*x - 1)/sqrt(2*x**2 - x + 5), x)\n"
          ]
        }
      ]
    },
    {
      "cell_type": "code",
      "source": [
        "f = (sp.ln(x))/x**3\n",
        "F = sp.integrate(f, x)\n",
        "print(F)"
      ],
      "metadata": {
        "colab": {
          "base_uri": "https://localhost:8080/"
        },
        "id": "FuaOhasoWs1E",
        "outputId": "aa3b27eb-1331-4951-d6a6-7ad0f0c2ab52"
      },
      "execution_count": 100,
      "outputs": [
        {
          "output_type": "stream",
          "name": "stdout",
          "text": [
            "-log(x)/(2*x**2) - 1/(4*x**2)\n"
          ]
        }
      ]
    },
    {
      "cell_type": "code",
      "source": [
        "f = (x * sp.acos(2*x))/(sp.sqrt(1-4*x**2))\n",
        "F = sp.integrate(f, x)\n",
        "print(F)"
      ],
      "metadata": {
        "colab": {
          "base_uri": "https://localhost:8080/"
        },
        "id": "G-UIsgfsW6dv",
        "outputId": "82dd10eb-69bb-497b-d4bc-236e120f5d7e"
      },
      "execution_count": 104,
      "outputs": [
        {
          "output_type": "stream",
          "name": "stdout",
          "text": [
            "-x/2 - sqrt(1 - 4*x**2)*acos(2*x)/4\n"
          ]
        }
      ]
    },
    {
      "cell_type": "markdown",
      "source": [
        "Визначений"
      ],
      "metadata": {
        "id": "nTL_75C8XU_l"
      }
    },
    {
      "cell_type": "code",
      "source": [
        "f = 3 * (x - 1) ** 2\n",
        "a = 1\n",
        "b = 2\n",
        "result = sp.integrate(f, (x, a, b))\n",
        "print(result)"
      ],
      "metadata": {
        "colab": {
          "base_uri": "https://localhost:8080/"
        },
        "id": "9PnunnZQXW0W",
        "outputId": "fff89c5f-0492-4a66-a9a7-4648bed5ed3d"
      },
      "execution_count": 110,
      "outputs": [
        {
          "output_type": "stream",
          "name": "stdout",
          "text": [
            "1\n"
          ]
        }
      ]
    },
    {
      "cell_type": "code",
      "source": [
        "f = sp.sin(x)**3\n",
        "a = 0\n",
        "b = sp.pi / 2 \n",
        "result = sp.integrate(f, (x, a, b))\n",
        "print(result)"
      ],
      "metadata": {
        "colab": {
          "base_uri": "https://localhost:8080/"
        },
        "id": "FrcuVbq9YU41",
        "outputId": "f9e2ce33-f040-4304-ac0f-9501d27f7337"
      },
      "execution_count": 111,
      "outputs": [
        {
          "output_type": "stream",
          "name": "stdout",
          "text": [
            "2/3\n"
          ]
        }
      ]
    },
    {
      "cell_type": "code",
      "source": [
        "f = (2 + sp.sin(x)**2)/(sp.sqrt(x))\n",
        "a = 1\n",
        "b = oo\n",
        "result = sp.integrate(f, (x, a, b))\n",
        "print(result)"
      ],
      "metadata": {
        "colab": {
          "base_uri": "https://localhost:8080/"
        },
        "id": "7wszEqmlYfZY",
        "outputId": "9383e492-0701-4230-fea0-48f895c3a9e0"
      },
      "execution_count": 119,
      "outputs": [
        {
          "output_type": "stream",
          "name": "stdout",
          "text": [
            "oo\n"
          ]
        }
      ]
    },
    {
      "cell_type": "code",
      "source": [],
      "metadata": {
        "id": "milqj15eYqqD"
      },
      "execution_count": null,
      "outputs": []
    }
  ]
}